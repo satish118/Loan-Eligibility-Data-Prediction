{
 "cells": [
  {
   "cell_type": "markdown",
   "metadata": {
    "id": "r238zFy8f-xl"
   },
   "source": [
    "# Importing Libraries "
   ]
  },
  {
   "cell_type": "code",
   "execution_count": 1,
   "metadata": {},
   "outputs": [
    {
     "data": {
      "text/plain": [
       "'C:\\\\Users\\\\hp'"
      ]
     },
     "execution_count": 1,
     "metadata": {},
     "output_type": "execute_result"
    }
   ],
   "source": [
    "pwd"
   ]
  },
  {
   "cell_type": "code",
   "execution_count": 4,
   "metadata": {
    "execution": {
     "iopub.execute_input": "2022-03-08T02:28:35.420087Z",
     "iopub.status.busy": "2022-03-08T02:28:35.419717Z",
     "iopub.status.idle": "2022-03-08T02:28:36.954209Z",
     "shell.execute_reply": "2022-03-08T02:28:36.953237Z",
     "shell.execute_reply.started": "2022-03-08T02:28:35.419989Z"
    },
    "id": "0tAGJPoeKrfI"
   },
   "outputs": [],
   "source": [
    "import numpy as np\n",
    "import pandas as pd\n",
    "import matplotlib.pyplot as plt\n",
    "import seaborn as sns\n",
    "import warnings\n",
    "import os\n",
    "import scipy\n",
    "\n",
    "from scipy import stats\n",
    "from scipy.stats import pearsonr\n",
    "from scipy.stats import ttest_ind\n",
    "from sklearn.metrics import classification_report\n",
    "from sklearn.metrics import confusion_matrix\n",
    "from sklearn.preprocessing import MinMaxScaler\n",
    "from sklearn.model_selection import train_test_split\n",
    "from imblearn.over_sampling import SMOTE\n",
    "\n",
    "from sklearn.linear_model import LogisticRegression\n",
    "from sklearn.neighbors import KNeighborsClassifier\n",
    "from sklearn.svm import SVC\n",
    "from sklearn.naive_bayes import CategoricalNB\n",
    "from sklearn.naive_bayes import GaussianNB\n",
    "from sklearn.tree import DecisionTreeClassifier\n",
    "from sklearn.ensemble import RandomForestClassifier\n",
    "from sklearn.ensemble import GradientBoostingClassifier\n",
    "from xgboost import XGBClassifier\n",
    "from sklearn.model_selection import GridSearchCV, RandomizedSearchCV"
   ]
  },
  {
   "cell_type": "markdown",
   "metadata": {
    "id": "_3IOljdqgEd0"
   },
   "source": [
    "# Reading Data Set"
   ]
  },
  {
   "cell_type": "code",
   "execution_count": 68,
   "metadata": {
    "execution": {
     "iopub.execute_input": "2022-03-08T02:28:36.957588Z",
     "iopub.status.busy": "2022-03-08T02:28:36.956629Z",
     "iopub.status.idle": "2022-03-08T02:28:37.002723Z",
     "shell.execute_reply": "2022-03-08T02:28:37.001806Z",
     "shell.execute_reply.started": "2022-03-08T02:28:36.957530Z"
    },
    "executionInfo": {
     "elapsed": 12,
     "status": "ok",
     "timestamp": 1636215157136,
     "user": {
      "displayName": "Mario Caesar",
      "photoUrl": "https://lh3.googleusercontent.com/a-/AOh14GheyOtCjw9bQyrYjdnb46Fp9pWuEIUHVSHLqwMBBw=s64",
      "userId": "15479329890797732984"
     },
     "user_tz": -420
    },
    "id": "-9VxuECvXJIR",
    "outputId": "e10713bf-2767-4654-d655-1aae2b4c78d3"
   },
   "outputs": [
    {
     "data": {
      "text/html": [
       "<div>\n",
       "<style scoped>\n",
       "    .dataframe tbody tr th:only-of-type {\n",
       "        vertical-align: middle;\n",
       "    }\n",
       "\n",
       "    .dataframe tbody tr th {\n",
       "        vertical-align: top;\n",
       "    }\n",
       "\n",
       "    .dataframe thead th {\n",
       "        text-align: right;\n",
       "    }\n",
       "</style>\n",
       "<table border=\"1\" class=\"dataframe\">\n",
       "  <thead>\n",
       "    <tr style=\"text-align: right;\">\n",
       "      <th></th>\n",
       "      <th>Loan_ID</th>\n",
       "      <th>Gender</th>\n",
       "      <th>Married</th>\n",
       "      <th>Dependents</th>\n",
       "      <th>Education</th>\n",
       "      <th>Self_Employed</th>\n",
       "      <th>ApplicantIncome</th>\n",
       "      <th>CoapplicantIncome</th>\n",
       "      <th>LoanAmount</th>\n",
       "      <th>Loan_Amount_Term</th>\n",
       "      <th>Credit_History</th>\n",
       "      <th>Property_Area</th>\n",
       "      <th>Loan_Status</th>\n",
       "    </tr>\n",
       "  </thead>\n",
       "  <tbody>\n",
       "    <tr>\n",
       "      <th>0</th>\n",
       "      <td>LP001002</td>\n",
       "      <td>Male</td>\n",
       "      <td>No</td>\n",
       "      <td>0</td>\n",
       "      <td>Graduate</td>\n",
       "      <td>No</td>\n",
       "      <td>5849</td>\n",
       "      <td>0.0</td>\n",
       "      <td>NaN</td>\n",
       "      <td>360.0</td>\n",
       "      <td>1.0</td>\n",
       "      <td>Urban</td>\n",
       "      <td>Y</td>\n",
       "    </tr>\n",
       "    <tr>\n",
       "      <th>1</th>\n",
       "      <td>LP001003</td>\n",
       "      <td>Male</td>\n",
       "      <td>Yes</td>\n",
       "      <td>1</td>\n",
       "      <td>Graduate</td>\n",
       "      <td>No</td>\n",
       "      <td>4583</td>\n",
       "      <td>1508.0</td>\n",
       "      <td>128.0</td>\n",
       "      <td>360.0</td>\n",
       "      <td>1.0</td>\n",
       "      <td>Rural</td>\n",
       "      <td>N</td>\n",
       "    </tr>\n",
       "    <tr>\n",
       "      <th>2</th>\n",
       "      <td>LP001005</td>\n",
       "      <td>Male</td>\n",
       "      <td>Yes</td>\n",
       "      <td>0</td>\n",
       "      <td>Graduate</td>\n",
       "      <td>Yes</td>\n",
       "      <td>3000</td>\n",
       "      <td>0.0</td>\n",
       "      <td>66.0</td>\n",
       "      <td>360.0</td>\n",
       "      <td>1.0</td>\n",
       "      <td>Urban</td>\n",
       "      <td>Y</td>\n",
       "    </tr>\n",
       "    <tr>\n",
       "      <th>3</th>\n",
       "      <td>LP001006</td>\n",
       "      <td>Male</td>\n",
       "      <td>Yes</td>\n",
       "      <td>0</td>\n",
       "      <td>Not Graduate</td>\n",
       "      <td>No</td>\n",
       "      <td>2583</td>\n",
       "      <td>2358.0</td>\n",
       "      <td>120.0</td>\n",
       "      <td>360.0</td>\n",
       "      <td>1.0</td>\n",
       "      <td>Urban</td>\n",
       "      <td>Y</td>\n",
       "    </tr>\n",
       "    <tr>\n",
       "      <th>4</th>\n",
       "      <td>LP001008</td>\n",
       "      <td>Male</td>\n",
       "      <td>No</td>\n",
       "      <td>0</td>\n",
       "      <td>Graduate</td>\n",
       "      <td>No</td>\n",
       "      <td>6000</td>\n",
       "      <td>0.0</td>\n",
       "      <td>141.0</td>\n",
       "      <td>360.0</td>\n",
       "      <td>1.0</td>\n",
       "      <td>Urban</td>\n",
       "      <td>Y</td>\n",
       "    </tr>\n",
       "  </tbody>\n",
       "</table>\n",
       "</div>"
      ],
      "text/plain": [
       "    Loan_ID Gender Married Dependents     Education Self_Employed  \\\n",
       "0  LP001002   Male      No          0      Graduate            No   \n",
       "1  LP001003   Male     Yes          1      Graduate            No   \n",
       "2  LP001005   Male     Yes          0      Graduate           Yes   \n",
       "3  LP001006   Male     Yes          0  Not Graduate            No   \n",
       "4  LP001008   Male      No          0      Graduate            No   \n",
       "\n",
       "   ApplicantIncome  CoapplicantIncome  LoanAmount  Loan_Amount_Term  \\\n",
       "0             5849                0.0         NaN             360.0   \n",
       "1             4583             1508.0       128.0             360.0   \n",
       "2             3000                0.0        66.0             360.0   \n",
       "3             2583             2358.0       120.0             360.0   \n",
       "4             6000                0.0       141.0             360.0   \n",
       "\n",
       "   Credit_History Property_Area Loan_Status  \n",
       "0             1.0         Urban           Y  \n",
       "1             1.0         Rural           N  \n",
       "2             1.0         Urban           Y  \n",
       "3             1.0         Urban           Y  \n",
       "4             1.0         Urban           Y  "
      ]
     },
     "execution_count": 68,
     "metadata": {},
     "output_type": "execute_result"
    }
   ],
   "source": [
    "df = pd.read_csv(\"loan_Data.csv\")\n",
    "df.head()"
   ]
  },
  {
   "cell_type": "code",
   "execution_count": 3,
   "metadata": {
    "execution": {
     "iopub.execute_input": "2022-03-08T02:28:37.004250Z",
     "iopub.status.busy": "2022-03-08T02:28:37.003870Z",
     "iopub.status.idle": "2022-03-08T02:28:37.009217Z",
     "shell.execute_reply": "2022-03-08T02:28:37.008333Z",
     "shell.execute_reply.started": "2022-03-08T02:28:37.004206Z"
    },
    "executionInfo": {
     "elapsed": 11,
     "status": "ok",
     "timestamp": 1636215157136,
     "user": {
      "displayName": "Mario Caesar",
      "photoUrl": "https://lh3.googleusercontent.com/a-/AOh14GheyOtCjw9bQyrYjdnb46Fp9pWuEIUHVSHLqwMBBw=s64",
      "userId": "15479329890797732984"
     },
     "user_tz": -420
    },
    "id": "QLUH-tNjh1b8",
    "outputId": "fdbfb745-c172-4349-b544-c23caeffb7b9"
   },
   "outputs": [
    {
     "name": "stdout",
     "output_type": "stream",
     "text": [
      "(614, 13)\n"
     ]
    }
   ],
   "source": [
    "print(df.shape)"
   ]
  },
  {
   "cell_type": "markdown",
   "metadata": {
    "id": "icrmwUvviQAX"
   },
   "source": [
    "Here, we can see that **13 columns** and **614 rows**"
   ]
  },
  {
   "cell_type": "markdown",
   "metadata": {
    "id": "q-gxXHlThKhK"
   },
   "source": [
    "#  Data Exploring\n",
    "\n",
    "Now drop null or missing values in every feature and count the difference in percentage in every column in applicants\n"
   ]
  },
  {
   "cell_type": "markdown",
   "metadata": {
    "id": "R1DsvbVQi2iw"
   },
   "source": [
    "# Loan ID"
   ]
  },
  {
   "cell_type": "code",
   "execution_count": 6,
   "metadata": {
    "execution": {
     "iopub.execute_input": "2022-03-08T02:28:37.011167Z",
     "iopub.status.busy": "2022-03-08T02:28:37.010426Z",
     "iopub.status.idle": "2022-03-08T02:28:37.030711Z",
     "shell.execute_reply": "2022-03-08T02:28:37.029786Z",
     "shell.execute_reply.started": "2022-03-08T02:28:37.011111Z"
    },
    "executionInfo": {
     "elapsed": 7,
     "status": "ok",
     "timestamp": 1636215157136,
     "user": {
      "displayName": "Mario Caesar",
      "photoUrl": "https://lh3.googleusercontent.com/a-/AOh14GheyOtCjw9bQyrYjdnb46Fp9pWuEIUHVSHLqwMBBw=s64",
      "userId": "15479329890797732984"
     },
     "user_tz": -420
    },
    "id": "NIqCAFjRi5Bo",
    "outputId": "7933cb5a-af01-42a6-8826-85fc89d8df39"
   },
   "outputs": [
    {
     "data": {
      "text/plain": [
       "LP002160    1\n",
       "LP001807    1\n",
       "LP001350    1\n",
       "LP002229    1\n",
       "LP001487    1\n",
       "           ..\n",
       "LP001256    1\n",
       "LP002422    1\n",
       "LP002366    1\n",
       "LP002893    1\n",
       "LP002308    1\n",
       "Name: Loan_ID, Length: 614, dtype: int64"
      ]
     },
     "execution_count": 6,
     "metadata": {},
     "output_type": "execute_result"
    }
   ],
   "source": [
    "df.Loan_ID.value_counts(dropna=False)"
   ]
  },
  {
   "cell_type": "markdown",
   "metadata": {
    "id": "P0PIgD0sizNr"
   },
   "source": [
    "# Gender"
   ]
  },
  {
   "cell_type": "code",
   "execution_count": 7,
   "metadata": {
    "execution": {
     "iopub.execute_input": "2022-03-08T02:28:37.033234Z",
     "iopub.status.busy": "2022-03-08T02:28:37.032613Z",
     "iopub.status.idle": "2022-03-08T02:28:37.041284Z",
     "shell.execute_reply": "2022-03-08T02:28:37.040323Z",
     "shell.execute_reply.started": "2022-03-08T02:28:37.033199Z"
    },
    "executionInfo": {
     "elapsed": 6,
     "status": "ok",
     "timestamp": 1636215157137,
     "user": {
      "displayName": "Mario Caesar",
      "photoUrl": "https://lh3.googleusercontent.com/a-/AOh14GheyOtCjw9bQyrYjdnb46Fp9pWuEIUHVSHLqwMBBw=s64",
      "userId": "15479329890797732984"
     },
     "user_tz": -420
    },
    "id": "-FCfZqBthMS9",
    "outputId": "7f8353a3-7ce7-42f0-8d35-1510ed7cf8e0"
   },
   "outputs": [
    {
     "data": {
      "text/plain": [
       "Male      489\n",
       "Female    112\n",
       "NaN        13\n",
       "Name: Gender, dtype: int64"
      ]
     },
     "execution_count": 7,
     "metadata": {},
     "output_type": "execute_result"
    }
   ],
   "source": [
    "df.Gender.value_counts(dropna=False)"
   ]
  },
  {
   "cell_type": "code",
   "execution_count": 8,
   "metadata": {
    "execution": {
     "iopub.execute_input": "2022-03-08T02:28:37.043156Z",
     "iopub.status.busy": "2022-03-08T02:28:37.042563Z",
     "iopub.status.idle": "2022-03-08T02:28:37.243272Z",
     "shell.execute_reply": "2022-03-08T02:28:37.242328Z",
     "shell.execute_reply.started": "2022-03-08T02:28:37.043110Z"
    },
    "executionInfo": {
     "elapsed": 512,
     "status": "ok",
     "timestamp": 1636215157644,
     "user": {
      "displayName": "Mario Caesar",
      "photoUrl": "https://lh3.googleusercontent.com/a-/AOh14GheyOtCjw9bQyrYjdnb46Fp9pWuEIUHVSHLqwMBBw=s64",
      "userId": "15479329890797732984"
     },
     "user_tz": -420
    },
    "id": "J4m9mVNniwED",
    "outputId": "d43ca689-e92c-499d-9324-e82ec41cd7b3"
   },
   "outputs": [
    {
     "data": {
      "image/png": "[encoded data removed]",
      "text/plain": [
       "<Figure size 432x288 with 1 Axes>"
      ]
     },
     "metadata": {
      "needs_background": "light"
     },
     "output_type": "display_data"
    }
   ],
   "source": [
    "sns.countplot(x=\"Gender\", data=df, palette=\"hls\")\n",
    "plt.show()"
   ]
  },
  {
   "cell_type": "code",
   "execution_count": 9,
   "metadata": {
    "execution": {
     "iopub.execute_input": "2022-03-08T02:28:37.244982Z",
     "iopub.status.busy": "2022-03-08T02:28:37.244670Z",
     "iopub.status.idle": "2022-03-08T02:28:37.259346Z",
     "shell.execute_reply": "2022-03-08T02:28:37.258176Z",
     "shell.execute_reply.started": "2022-03-08T02:28:37.244923Z"
    },
    "executionInfo": {
     "elapsed": 7,
     "status": "ok",
     "timestamp": 1636215157645,
     "user": {
      "displayName": "Mario Caesar",
      "photoUrl": "https://lh3.googleusercontent.com/a-/AOh14GheyOtCjw9bQyrYjdnb46Fp9pWuEIUHVSHLqwMBBw=s64",
      "userId": "15479329890797732984"
     },
     "user_tz": -420
    },
    "id": "P7dngibeoNnH",
    "outputId": "2a3f125f-70a0-4271-fc2b-2c38edd6eb9c"
   },
   "outputs": [
    {
     "name": "stdout",
     "output_type": "stream",
     "text": [
      "Percentage of Male applicant: 79.64%\n",
      "Percentage of Female applicant: 18.24%\n",
      "Missing values percentage: 2.12%\n"
     ]
    }
   ],
   "source": [
    "countMale = len(df[df.Gender == 'Male'])\n",
    "countFemale = len(df[df.Gender == 'Female'])\n",
    "countNull = len(df[df.Gender.isnull()])\n",
    "\n",
    "print(\"Percentage of Male applicant: {:.2f}%\".format((countMale / (len(df.Gender))*100)))\n",
    "print(\"Percentage of Female applicant: {:.2f}%\".format((countFemale / (len(df.Gender))*100)))\n",
    "print(\"Missing values percentage: {:.2f}%\".format((countNull / (len(df.Gender))*100)))\n",
    "\n",
    "# here we can see that male applicants are higher than female applicants"
   ]
  },
  {
   "cell_type": "markdown",
   "metadata": {
    "id": "b_Mkfxy6k2kS"
   },
   "source": [
    "# Married"
   ]
  },
  {
   "cell_type": "code",
   "execution_count": 10,
   "metadata": {
    "execution": {
     "iopub.execute_input": "2022-03-08T02:28:37.261924Z",
     "iopub.status.busy": "2022-03-08T02:28:37.261207Z",
     "iopub.status.idle": "2022-03-08T02:28:37.273082Z",
     "shell.execute_reply": "2022-03-08T02:28:37.272383Z",
     "shell.execute_reply.started": "2022-03-08T02:28:37.261854Z"
    },
    "executionInfo": {
     "elapsed": 6,
     "status": "ok",
     "timestamp": 1636215157645,
     "user": {
      "displayName": "Mario Caesar",
      "photoUrl": "https://lh3.googleusercontent.com/a-/AOh14GheyOtCjw9bQyrYjdnb46Fp9pWuEIUHVSHLqwMBBw=s64",
      "userId": "15479329890797732984"
     },
     "user_tz": -420
    },
    "id": "GxBR8uJpk95l",
    "outputId": "609cccfb-9dc1-4c3c-9a80-7201b5aeebb4"
   },
   "outputs": [
    {
     "data": {
      "text/plain": [
       "Yes    398\n",
       "No     213\n",
       "NaN      3\n",
       "Name: Married, dtype: int64"
      ]
     },
     "execution_count": 10,
     "metadata": {},
     "output_type": "execute_result"
    }
   ],
   "source": [
    "df.Married.value_counts(dropna=False)"
   ]
  },
  {
   "cell_type": "code",
   "execution_count": 11,
   "metadata": {
    "execution": {
     "iopub.execute_input": "2022-03-08T02:28:37.276197Z",
     "iopub.status.busy": "2022-03-08T02:28:37.274800Z",
     "iopub.status.idle": "2022-03-08T02:28:37.446978Z",
     "shell.execute_reply": "2022-03-08T02:28:37.446228Z",
     "shell.execute_reply.started": "2022-03-08T02:28:37.276120Z"
    },
    "executionInfo": {
     "elapsed": 7,
     "status": "ok",
     "timestamp": 1636215157646,
     "user": {
      "displayName": "Mario Caesar",
      "photoUrl": "https://lh3.googleusercontent.com/a-/AOh14GheyOtCjw9bQyrYjdnb46Fp9pWuEIUHVSHLqwMBBw=s64",
      "userId": "15479329890797732984"
     },
     "user_tz": -420
    },
    "id": "7PSgGPJ-lNAI",
    "outputId": "62ed5fb3-fc6f-4a08-b300-929ab5ebdcd7"
   },
   "outputs": [
    {
     "data": {
      "image/png": "[encoded data removed]",
      "text/plain": [
       "<Figure size 432x288 with 1 Axes>"
      ]
     },
     "metadata": {
      "needs_background": "light"
     },
     "output_type": "display_data"
    }
   ],
   "source": [
    "sns.countplot(x=\"Married\", data=df, palette=\"Paired\")\n",
    "plt.show()"
   ]
  },
  {
   "cell_type": "markdown",
   "metadata": {
    "id": "103tu8DvlV0V"
   },
   "source": [
    "The number of applicants that has been married is higher compared to applicants that hasn't married"
   ]
  },
  {
   "cell_type": "code",
   "execution_count": 12,
   "metadata": {
    "execution": {
     "iopub.execute_input": "2022-03-08T02:28:37.448618Z",
     "iopub.status.busy": "2022-03-08T02:28:37.448053Z",
     "iopub.status.idle": "2022-03-08T02:28:37.457895Z",
     "shell.execute_reply": "2022-03-08T02:28:37.457175Z",
     "shell.execute_reply.started": "2022-03-08T02:28:37.448584Z"
    },
    "executionInfo": {
     "elapsed": 692,
     "status": "ok",
     "timestamp": 1636215158332,
     "user": {
      "displayName": "Mario Caesar",
      "photoUrl": "https://lh3.googleusercontent.com/a-/AOh14GheyOtCjw9bQyrYjdnb46Fp9pWuEIUHVSHLqwMBBw=s64",
      "userId": "15479329890797732984"
     },
     "user_tz": -420
    },
    "id": "Iy-ECFncpHOg",
    "outputId": "7693d123-3919-4081-a9c5-0aced95b3c09"
   },
   "outputs": [
    {
     "name": "stdout",
     "output_type": "stream",
     "text": [
      "Percentage of married: 64.82%\n",
      "Percentage of Not married applicant: 34.69%\n",
      "Missing values percentage: 0.49%\n"
     ]
    }
   ],
   "source": [
    "# percentage of married and not-married applicants\n",
    "\n",
    "countMarried = len(df[df.Married == 'Yes'])\n",
    "countNotMarried = len(df[df.Married == 'No'])\n",
    "countNull = len(df[df.Married.isnull()])\n",
    "\n",
    "print(\"Percentage of married: {:.2f}%\".format((countMarried / (len(df.Married))*100)))\n",
    "print(\"Percentage of Not married applicant: {:.2f}%\".format((countNotMarried / (len(df.Married))*100)))\n",
    "print(\"Missing values percentage: {:.2f}%\".format((countNull / (len(df.Married))*100)))\n",
    "\n",
    "# here we can see that married applicants are more than non married applicants"
   ]
  },
  {
   "cell_type": "markdown",
   "metadata": {
    "id": "Ytz_I82Vl3Wu"
   },
   "source": [
    "# Education"
   ]
  },
  {
   "cell_type": "code",
   "execution_count": 13,
   "metadata": {
    "execution": {
     "iopub.execute_input": "2022-03-08T02:28:37.460258Z",
     "iopub.status.busy": "2022-03-08T02:28:37.458987Z",
     "iopub.status.idle": "2022-03-08T02:28:37.475857Z",
     "shell.execute_reply": "2022-03-08T02:28:37.475184Z",
     "shell.execute_reply.started": "2022-03-08T02:28:37.460216Z"
    },
    "executionInfo": {
     "elapsed": 9,
     "status": "ok",
     "timestamp": 1636215158332,
     "user": {
      "displayName": "Mario Caesar",
      "photoUrl": "https://lh3.googleusercontent.com/a-/AOh14GheyOtCjw9bQyrYjdnb46Fp9pWuEIUHVSHLqwMBBw=s64",
      "userId": "15479329890797732984"
     },
     "user_tz": -420
    },
    "id": "Qqa3XmC5l3Wv",
    "outputId": "6b3abc7b-5620-4fb0-8390-017368413212"
   },
   "outputs": [
    {
     "data": {
      "text/plain": [
       "Graduate        480\n",
       "Not Graduate    134\n",
       "Name: Education, dtype: int64"
      ]
     },
     "execution_count": 13,
     "metadata": {},
     "output_type": "execute_result"
    }
   ],
   "source": [
    "df.Education.value_counts(dropna=False)"
   ]
  },
  {
   "cell_type": "code",
   "execution_count": 14,
   "metadata": {
    "execution": {
     "iopub.execute_input": "2022-03-08T02:28:37.478210Z",
     "iopub.status.busy": "2022-03-08T02:28:37.477178Z",
     "iopub.status.idle": "2022-03-08T02:28:37.643701Z",
     "shell.execute_reply": "2022-03-08T02:28:37.642794Z",
     "shell.execute_reply.started": "2022-03-08T02:28:37.478156Z"
    },
    "executionInfo": {
     "elapsed": 9,
     "status": "ok",
     "timestamp": 1636215158333,
     "user": {
      "displayName": "Mario Caesar",
      "photoUrl": "https://lh3.googleusercontent.com/a-/AOh14GheyOtCjw9bQyrYjdnb46Fp9pWuEIUHVSHLqwMBBw=s64",
      "userId": "15479329890797732984"
     },
     "user_tz": -420
    },
    "id": "rOSIyek7l3Wv",
    "outputId": "a8ecaac3-6c54-4858-cbfe-adb246c67a83"
   },
   "outputs": [
    {
     "data": {
      "image/png": "[encoded data removed]",
      "text/plain": [
       "<Figure size 432x288 with 1 Axes>"
      ]
     },
     "metadata": {
      "needs_background": "light"
     },
     "output_type": "display_data"
    }
   ],
   "source": [
    "sns.countplot(x=\"Education\", data=df, palette=\"rocket\")\n",
    "plt.show()"
   ]
  },
  {
   "cell_type": "code",
   "execution_count": 15,
   "metadata": {
    "execution": {
     "iopub.execute_input": "2022-03-08T02:28:37.646741Z",
     "iopub.status.busy": "2022-03-08T02:28:37.646233Z",
     "iopub.status.idle": "2022-03-08T02:28:37.659860Z",
     "shell.execute_reply": "2022-03-08T02:28:37.658931Z",
     "shell.execute_reply.started": "2022-03-08T02:28:37.646693Z"
    },
    "executionInfo": {
     "elapsed": 9,
     "status": "ok",
     "timestamp": 1636215158333,
     "user": {
      "displayName": "Mario Caesar",
      "photoUrl": "https://lh3.googleusercontent.com/a-/AOh14GheyOtCjw9bQyrYjdnb46Fp9pWuEIUHVSHLqwMBBw=s64",
      "userId": "15479329890797732984"
     },
     "user_tz": -420
    },
    "id": "KswArAwgphLx",
    "outputId": "b17794ee-1de2-40da-8dc0-dd2da091be86"
   },
   "outputs": [
    {
     "name": "stdout",
     "output_type": "stream",
     "text": [
      "Percentage of graduate applicant: 78.18%\n",
      "Percentage of Not graduate applicant: 21.82%\n",
      "Missing values percentage: 0.00%\n"
     ]
    }
   ],
   "source": [
    "countGraduate = len(df[df.Education == 'Graduate'])\n",
    "countNotGraduate = len(df[df.Education == 'Not Graduate'])\n",
    "countNull = len(df[df.Education.isnull()])\n",
    "\n",
    "print(\"Percentage of graduate applicant: {:.2f}%\".format((countGraduate / (len(df.Education))*100)))\n",
    "print(\"Percentage of Not graduate applicant: {:.2f}%\".format((countNotGraduate / (len(df.Education))*100)))\n",
    "print(\"Missing values percentage: {:.2f}%\".format((countNull / (len(df.Education))*100)))"
   ]
  },
  {
   "cell_type": "markdown",
   "metadata": {
    "id": "wa2PIxQ_l3Ww"
   },
   "source": [
    "here graduated applicants are more than non-graduated applicants"
   ]
  },
  {
   "cell_type": "markdown",
   "metadata": {
    "id": "35SS19AbmYMQ"
   },
   "source": [
    "# Self Employed"
   ]
  },
  {
   "cell_type": "code",
   "execution_count": 69,
   "metadata": {
    "execution": {
     "iopub.execute_input": "2022-03-08T02:28:37.663898Z",
     "iopub.status.busy": "2022-03-08T02:28:37.663498Z",
     "iopub.status.idle": "2022-03-08T02:28:37.675867Z",
     "shell.execute_reply": "2022-03-08T02:28:37.674931Z",
     "shell.execute_reply.started": "2022-03-08T02:28:37.663859Z"
    },
    "executionInfo": {
     "elapsed": 9,
     "status": "ok",
     "timestamp": 1636215158334,
     "user": {
      "displayName": "Mario Caesar",
      "photoUrl": "https://lh3.googleusercontent.com/a-/AOh14GheyOtCjw9bQyrYjdnb46Fp9pWuEIUHVSHLqwMBBw=s64",
      "userId": "15479329890797732984"
     },
     "user_tz": -420
    },
    "id": "_SkU0fcVmYMY",
    "outputId": "2eed44a8-0e10-4f3b-da41-542e4e19646a"
   },
   "outputs": [
    {
     "data": {
      "text/plain": [
       "No     500\n",
       "Yes     82\n",
       "NaN     32\n",
       "Name: Self_Employed, dtype: int64"
      ]
     },
     "execution_count": 69,
     "metadata": {},
     "output_type": "execute_result"
    }
   ],
   "source": [
    "df.Self_Employed.value_counts(dropna=False)"
   ]
  },
  {
   "cell_type": "code",
   "execution_count": 70,
   "metadata": {
    "execution": {
     "iopub.execute_input": "2022-03-08T02:28:37.677245Z",
     "iopub.status.busy": "2022-03-08T02:28:37.677014Z",
     "iopub.status.idle": "2022-03-08T02:28:37.792117Z",
     "shell.execute_reply": "2022-03-08T02:28:37.791100Z",
     "shell.execute_reply.started": "2022-03-08T02:28:37.677219Z"
    },
    "executionInfo": {
     "elapsed": 9,
     "status": "ok",
     "timestamp": 1636215158334,
     "user": {
      "displayName": "Mario Caesar",
      "photoUrl": "https://lh3.googleusercontent.com/a-/AOh14GheyOtCjw9bQyrYjdnb46Fp9pWuEIUHVSHLqwMBBw=s64",
      "userId": "15479329890797732984"
     },
     "user_tz": -420
    },
    "id": "BMr-wTlFmYMZ",
    "outputId": "4f382de4-2c7a-4c74-ef1b-cd3657762aff"
   },
   "outputs": [
    {
     "data": {
      "image/png": "[encoded data removed]",
      "text/plain": [
       "<Figure size 432x288 with 1 Axes>"
      ]
     },
     "metadata": {},
     "output_type": "display_data"
    }
   ],
   "source": [
    "sns.countplot(x=\"Self_Employed\", data=df, palette=\"rocket\")\n",
    "plt.show()"
   ]
  },
  {
   "cell_type": "code",
   "execution_count": 18,
   "metadata": {
    "execution": {
     "iopub.execute_input": "2022-03-08T02:28:37.794739Z",
     "iopub.status.busy": "2022-03-08T02:28:37.794114Z",
     "iopub.status.idle": "2022-03-08T02:28:37.810051Z",
     "shell.execute_reply": "2022-03-08T02:28:37.808801Z",
     "shell.execute_reply.started": "2022-03-08T02:28:37.794683Z"
    },
    "executionInfo": {
     "elapsed": 8,
     "status": "ok",
     "timestamp": 1636215158334,
     "user": {
      "displayName": "Mario Caesar",
      "photoUrl": "https://lh3.googleusercontent.com/a-/AOh14GheyOtCjw9bQyrYjdnb46Fp9pWuEIUHVSHLqwMBBw=s64",
      "userId": "15479329890797732984"
     },
     "user_tz": -420
    },
    "id": "EaJS6E0Xp1AT",
    "outputId": "39f3ec08-aced-44ca-abbd-3bd50b818622"
   },
   "outputs": [
    {
     "name": "stdout",
     "output_type": "stream",
     "text": [
      "Percentage of Not self employed: 81.43%\n",
      "Percentage of self employed: 13.36%\n",
      "Missing values percentage: 5.21%\n"
     ]
    }
   ],
   "source": [
    "countNo = len(df[df.Self_Employed == 'No'])\n",
    "countYes = len(df[df.Self_Employed == 'Yes'])\n",
    "countNull = len(df[df.Self_Employed.isnull()])\n",
    "\n",
    "print(\"Percentage of Not self employed: {:.2f}%\".format((countNo / (len(df.Self_Employed))*100)))\n",
    "print(\"Percentage of self employed: {:.2f}%\".format((countYes / (len(df.Self_Employed))*100)))\n",
    "print(\"Missing values percentage: {:.2f}%\".format((countNull / (len(df.Self_Employed))*100)))"
   ]
  },
  {
   "cell_type": "markdown",
   "metadata": {
    "id": "riciPtC9mYMZ"
   },
   "source": [
    "The number of applicants that are not self employed is higher compared to applicants that are self employed."
   ]
  },
  {
   "cell_type": "markdown",
   "metadata": {
    "id": "sn4zWF8-njF5"
   },
   "source": [
    "# Credit History"
   ]
  },
  {
   "cell_type": "code",
   "execution_count": 19,
   "metadata": {
    "execution": {
     "iopub.execute_input": "2022-03-08T02:28:37.813008Z",
     "iopub.status.busy": "2022-03-08T02:28:37.812424Z",
     "iopub.status.idle": "2022-03-08T02:28:37.827535Z",
     "shell.execute_reply": "2022-03-08T02:28:37.826151Z",
     "shell.execute_reply.started": "2022-03-08T02:28:37.812958Z"
    },
    "executionInfo": {
     "elapsed": 9,
     "status": "ok",
     "timestamp": 1636215158335,
     "user": {
      "displayName": "Mario Caesar",
      "photoUrl": "https://lh3.googleusercontent.com/a-/AOh14GheyOtCjw9bQyrYjdnb46Fp9pWuEIUHVSHLqwMBBw=s64",
      "userId": "15479329890797732984"
     },
     "user_tz": -420
    },
    "id": "KtdDjo95njGA",
    "outputId": "1881d0af-d045-4e03-cde1-6c0aeeb93448"
   },
   "outputs": [
    {
     "data": {
      "text/plain": [
       "1.0    475\n",
       "0.0     89\n",
       "NaN     50\n",
       "Name: Credit_History, dtype: int64"
      ]
     },
     "execution_count": 19,
     "metadata": {},
     "output_type": "execute_result"
    }
   ],
   "source": [
    "df.Credit_History.value_counts(dropna=False)"
   ]
  },
  {
   "cell_type": "code",
   "execution_count": 20,
   "metadata": {
    "execution": {
     "iopub.execute_input": "2022-03-08T02:28:37.831054Z",
     "iopub.status.busy": "2022-03-08T02:28:37.830257Z",
     "iopub.status.idle": "2022-03-08T02:28:37.988441Z",
     "shell.execute_reply": "2022-03-08T02:28:37.987767Z",
     "shell.execute_reply.started": "2022-03-08T02:28:37.830988Z"
    },
    "executionInfo": {
     "elapsed": 606,
     "status": "ok",
     "timestamp": 1636215158932,
     "user": {
      "displayName": "Mario Caesar",
      "photoUrl": "https://lh3.googleusercontent.com/a-/AOh14GheyOtCjw9bQyrYjdnb46Fp9pWuEIUHVSHLqwMBBw=s64",
      "userId": "15479329890797732984"
     },
     "user_tz": -420
    },
    "id": "VmNGGD6onjGB",
    "outputId": "241c0aca-0c53-4611-9047-9ad67a8ab75d"
   },
   "outputs": [
    {
     "data": {
      "image/png": "[encoded data removed]",
      "text/plain": [
       "<Figure size 432x288 with 1 Axes>"
      ]
     },
     "metadata": {
      "needs_background": "light"
     },
     "output_type": "display_data"
    }
   ],
   "source": [
    "sns.countplot(x=\"Credit_History\", data=df, palette=\"viridis\")\n",
    "plt.show()"
   ]
  },
  {
   "cell_type": "code",
   "execution_count": 21,
   "metadata": {
    "execution": {
     "iopub.execute_input": "2022-03-08T02:28:37.990354Z",
     "iopub.status.busy": "2022-03-08T02:28:37.989844Z",
     "iopub.status.idle": "2022-03-08T02:28:38.001778Z",
     "shell.execute_reply": "2022-03-08T02:28:38.000577Z",
     "shell.execute_reply.started": "2022-03-08T02:28:37.990308Z"
    },
    "executionInfo": {
     "elapsed": 11,
     "status": "ok",
     "timestamp": 1636215158933,
     "user": {
      "displayName": "Mario Caesar",
      "photoUrl": "https://lh3.googleusercontent.com/a-/AOh14GheyOtCjw9bQyrYjdnb46Fp9pWuEIUHVSHLqwMBBw=s64",
      "userId": "15479329890797732984"
     },
     "user_tz": -420
    },
    "id": "WdkcsU8vqK8Y",
    "outputId": "6b17cefa-27be-4815-d81c-5896cbfe1a74"
   },
   "outputs": [
    {
     "name": "stdout",
     "output_type": "stream",
     "text": [
      "Percentage of Good credit history: 77.36%\n",
      "Percentage of Bad credit history: 14.50%\n",
      "Missing values percentage: 8.14%\n"
     ]
    }
   ],
   "source": [
    "count1 = len(df[df.Credit_History == 1])\n",
    "count0 = len(df[df.Credit_History == 0])\n",
    "countNull = len(df[df.Credit_History.isnull()])\n",
    "\n",
    "print(\"Percentage of Good credit history: {:.2f}%\".format((count1 / (len(df.Credit_History))*100)))\n",
    "print(\"Percentage of Bad credit history: {:.2f}%\".format((count0 / (len(df.Credit_History))*100)))\n",
    "print(\"Missing values percentage: {:.2f}%\".format((countNull / (len(df.Credit_History))*100)))"
   ]
  },
  {
   "cell_type": "markdown",
   "metadata": {
    "id": "SqS_n8I7njGB"
   },
   "source": [
    "Here Applicants with good credit history are more than apploicants with bad credit history"
   ]
  },
  {
   "cell_type": "markdown",
   "metadata": {
    "id": "vITK924Anjnn"
   },
   "source": [
    "# Property Area"
   ]
  },
  {
   "cell_type": "code",
   "execution_count": 22,
   "metadata": {
    "execution": {
     "iopub.execute_input": "2022-03-08T02:28:38.003745Z",
     "iopub.status.busy": "2022-03-08T02:28:38.003291Z",
     "iopub.status.idle": "2022-03-08T02:28:38.023708Z",
     "shell.execute_reply": "2022-03-08T02:28:38.022809Z",
     "shell.execute_reply.started": "2022-03-08T02:28:38.003708Z"
    },
    "executionInfo": {
     "elapsed": 10,
     "status": "ok",
     "timestamp": 1636215158933,
     "user": {
      "displayName": "Mario Caesar",
      "photoUrl": "https://lh3.googleusercontent.com/a-/AOh14GheyOtCjw9bQyrYjdnb46Fp9pWuEIUHVSHLqwMBBw=s64",
      "userId": "15479329890797732984"
     },
     "user_tz": -420
    },
    "id": "i4o2LfJ2njnn",
    "outputId": "afce89f9-2ab6-439d-e2c8-43ca0e85cffc"
   },
   "outputs": [
    {
     "data": {
      "text/plain": [
       "Semiurban    233\n",
       "Urban        202\n",
       "Rural        179\n",
       "Name: Property_Area, dtype: int64"
      ]
     },
     "execution_count": 22,
     "metadata": {},
     "output_type": "execute_result"
    }
   ],
   "source": [
    "df.Property_Area.value_counts(dropna=False)"
   ]
  },
  {
   "cell_type": "code",
   "execution_count": 23,
   "metadata": {
    "execution": {
     "iopub.execute_input": "2022-03-08T02:28:38.025747Z",
     "iopub.status.busy": "2022-03-08T02:28:38.025000Z",
     "iopub.status.idle": "2022-03-08T02:28:38.195693Z",
     "shell.execute_reply": "2022-03-08T02:28:38.194766Z",
     "shell.execute_reply.started": "2022-03-08T02:28:38.025711Z"
    },
    "executionInfo": {
     "elapsed": 9,
     "status": "ok",
     "timestamp": 1636215158933,
     "user": {
      "displayName": "Mario Caesar",
      "photoUrl": "https://lh3.googleusercontent.com/a-/AOh14GheyOtCjw9bQyrYjdnb46Fp9pWuEIUHVSHLqwMBBw=s64",
      "userId": "15479329890797732984"
     },
     "user_tz": -420
    },
    "id": "29S5dnm6njnn",
    "outputId": "89ab805a-9bd5-4952-e383-21000da492fa"
   },
   "outputs": [
    {
     "data": {
      "image/png": "[encoded data removed]",
      "text/plain": [
       "<Figure size 432x288 with 1 Axes>"
      ]
     },
     "metadata": {
      "needs_background": "light"
     },
     "output_type": "display_data"
    }
   ],
   "source": [
    "sns.countplot(x=\"Property_Area\", data=df, palette=\"cubehelix\")\n",
    "plt.show()"
   ]
  },
  {
   "cell_type": "code",
   "execution_count": 24,
   "metadata": {
    "execution": {
     "iopub.execute_input": "2022-03-08T02:28:38.197630Z",
     "iopub.status.busy": "2022-03-08T02:28:38.196939Z",
     "iopub.status.idle": "2022-03-08T02:28:38.208489Z",
     "shell.execute_reply": "2022-03-08T02:28:38.207717Z",
     "shell.execute_reply.started": "2022-03-08T02:28:38.197593Z"
    },
    "executionInfo": {
     "elapsed": 9,
     "status": "ok",
     "timestamp": 1636215158934,
     "user": {
      "displayName": "Mario Caesar",
      "photoUrl": "https://lh3.googleusercontent.com/a-/AOh14GheyOtCjw9bQyrYjdnb46Fp9pWuEIUHVSHLqwMBBw=s64",
      "userId": "15479329890797732984"
     },
     "user_tz": -420
    },
    "id": "XoksMSh9raU_",
    "outputId": "6344c5c7-c018-4d68-d5d2-f35de65edf29"
   },
   "outputs": [
    {
     "name": "stdout",
     "output_type": "stream",
     "text": [
      "Percentage of Urban: 32.90%\n",
      "Percentage of Rural: 29.15%\n",
      "Percentage of Semiurban: 37.95%\n",
      "Missing values percentage: 0.00%\n"
     ]
    }
   ],
   "source": [
    "countUrban = len(df[df.Property_Area == 'Urban'])\n",
    "countRural = len(df[df.Property_Area == 'Rural'])\n",
    "countSemiurban = len(df[df.Property_Area == 'Semiurban'])\n",
    "countNull = len(df[df.Property_Area.isnull()])\n",
    "\n",
    "print(\"Percentage of Urban: {:.2f}%\".format((countUrban / (len(df.Property_Area))*100)))\n",
    "print(\"Percentage of Rural: {:.2f}%\".format((countRural / (len(df.Property_Area))*100)))\n",
    "print(\"Percentage of Semiurban: {:.2f}%\".format((countSemiurban / (len(df.Property_Area))*100)))\n",
    "print(\"Missing values percentage: {:.2f}%\".format((countNull / (len(df.Property_Area))*100)))"
   ]
  },
  {
   "cell_type": "markdown",
   "metadata": {
    "id": "Uh6r7sCbnjnn"
   },
   "source": [
    "here we checked the balanced distribution between Urban, Rural, and Semiurban property area."
   ]
  },
  {
   "cell_type": "markdown",
   "metadata": {
    "id": "sq3-SZScnkCQ"
   },
   "source": [
    "# Loan Status"
   ]
  },
  {
   "cell_type": "code",
   "execution_count": 25,
   "metadata": {
    "execution": {
     "iopub.execute_input": "2022-03-08T02:28:38.210271Z",
     "iopub.status.busy": "2022-03-08T02:28:38.209709Z",
     "iopub.status.idle": "2022-03-08T02:28:38.223124Z",
     "shell.execute_reply": "2022-03-08T02:28:38.222216Z",
     "shell.execute_reply.started": "2022-03-08T02:28:38.210225Z"
    },
    "executionInfo": {
     "elapsed": 9,
     "status": "ok",
     "timestamp": 1636215158934,
     "user": {
      "displayName": "Mario Caesar",
      "photoUrl": "https://lh3.googleusercontent.com/a-/AOh14GheyOtCjw9bQyrYjdnb46Fp9pWuEIUHVSHLqwMBBw=s64",
      "userId": "15479329890797732984"
     },
     "user_tz": -420
    },
    "id": "wiumstnCnkCQ",
    "outputId": "87f387d9-fce8-4b8a-9c1b-105e97e5e9ce"
   },
   "outputs": [
    {
     "data": {
      "text/plain": [
       "Y    422\n",
       "N    192\n",
       "Name: Loan_Status, dtype: int64"
      ]
     },
     "execution_count": 25,
     "metadata": {},
     "output_type": "execute_result"
    }
   ],
   "source": [
    "df.Loan_Status.value_counts(dropna=False)"
   ]
  },
  {
   "cell_type": "code",
   "execution_count": 26,
   "metadata": {
    "execution": {
     "iopub.execute_input": "2022-03-08T02:28:38.226848Z",
     "iopub.status.busy": "2022-03-08T02:28:38.226475Z",
     "iopub.status.idle": "2022-03-08T02:28:38.398985Z",
     "shell.execute_reply": "2022-03-08T02:28:38.398197Z",
     "shell.execute_reply.started": "2022-03-08T02:28:38.226800Z"
    },
    "executionInfo": {
     "elapsed": 9,
     "status": "ok",
     "timestamp": 1636215158935,
     "user": {
      "displayName": "Mario Caesar",
      "photoUrl": "https://lh3.googleusercontent.com/a-/AOh14GheyOtCjw9bQyrYjdnb46Fp9pWuEIUHVSHLqwMBBw=s64",
      "userId": "15479329890797732984"
     },
     "user_tz": -420
    },
    "id": "uu0vT0SvnkCR",
    "outputId": "3d3ed03e-b55a-4984-b1db-1a3ff22693d0"
   },
   "outputs": [
    {
     "data": {
      "image/png": "[encoded data removed]",
      "text/plain": [
       "<Figure size 432x288 with 1 Axes>"
      ]
     },
     "metadata": {
      "needs_background": "light"
     },
     "output_type": "display_data"
    }
   ],
   "source": [
    "sns.countplot(x=\"Loan_Status\", data=df, palette=\"YlOrBr\")\n",
    "plt.show()"
   ]
  },
  {
   "cell_type": "code",
   "execution_count": 27,
   "metadata": {
    "execution": {
     "iopub.execute_input": "2022-03-08T02:28:38.400737Z",
     "iopub.status.busy": "2022-03-08T02:28:38.400459Z",
     "iopub.status.idle": "2022-03-08T02:28:38.413001Z",
     "shell.execute_reply": "2022-03-08T02:28:38.412160Z",
     "shell.execute_reply.started": "2022-03-08T02:28:38.400699Z"
    },
    "executionInfo": {
     "elapsed": 9,
     "status": "ok",
     "timestamp": 1636215158935,
     "user": {
      "displayName": "Mario Caesar",
      "photoUrl": "https://lh3.googleusercontent.com/a-/AOh14GheyOtCjw9bQyrYjdnb46Fp9pWuEIUHVSHLqwMBBw=s64",
      "userId": "15479329890797732984"
     },
     "user_tz": -420
    },
    "id": "nicivzzRsqZe",
    "outputId": "3e6ffec2-03cd-428b-8c3b-463377ea4c84"
   },
   "outputs": [
    {
     "name": "stdout",
     "output_type": "stream",
     "text": [
      "Percentage of Approved: 68.73%\n",
      "Percentage of Rejected: 31.27%\n",
      "Missing values percentage: 0.00%\n"
     ]
    }
   ],
   "source": [
    "countY = len(df[df.Loan_Status == 'Y'])\n",
    "countN = len(df[df.Loan_Status == 'N'])\n",
    "countNull = len(df[df.Loan_Status.isnull()])\n",
    "\n",
    "print(\"Percentage of Approved: {:.2f}%\".format((countY / (len(df.Loan_Status))*100)))\n",
    "print(\"Percentage of Rejected: {:.2f}%\".format((countN / (len(df.Loan_Status))*100)))\n",
    "print(\"Missing values percentage: {:.2f}%\".format((countNull / (len(df.Loan_Status))*100)))"
   ]
  },
  {
   "cell_type": "markdown",
   "metadata": {
    "id": "Nj8btIZpnkCR"
   },
   "source": [
    "The number of approved loans is higher compared to rejected loans ."
   ]
  },
  {
   "cell_type": "markdown",
   "metadata": {
    "id": "uOKvRa2gO_j9"
   },
   "source": [
    "# Loan Amount Term"
   ]
  },
  {
   "cell_type": "code",
   "execution_count": 28,
   "metadata": {
    "execution": {
     "iopub.execute_input": "2022-03-08T02:28:38.415535Z",
     "iopub.status.busy": "2022-03-08T02:28:38.414623Z",
     "iopub.status.idle": "2022-03-08T02:28:38.423765Z",
     "shell.execute_reply": "2022-03-08T02:28:38.423033Z",
     "shell.execute_reply.started": "2022-03-08T02:28:38.415492Z"
    },
    "executionInfo": {
     "elapsed": 8,
     "status": "ok",
     "timestamp": 1636215158935,
     "user": {
      "displayName": "Mario Caesar",
      "photoUrl": "https://lh3.googleusercontent.com/a-/AOh14GheyOtCjw9bQyrYjdnb46Fp9pWuEIUHVSHLqwMBBw=s64",
      "userId": "15479329890797732984"
     },
     "user_tz": -420
    },
    "id": "suUA8cOXO_kB",
    "outputId": "12318782-a8c4-456f-d772-4fb39a748e61"
   },
   "outputs": [
    {
     "data": {
      "text/plain": [
       "360.0    512\n",
       "180.0     44\n",
       "480.0     15\n",
       "NaN       14\n",
       "300.0     13\n",
       "84.0       4\n",
       "240.0      4\n",
       "120.0      3\n",
       "36.0       2\n",
       "60.0       2\n",
       "12.0       1\n",
       "Name: Loan_Amount_Term, dtype: int64"
      ]
     },
     "execution_count": 28,
     "metadata": {},
     "output_type": "execute_result"
    }
   ],
   "source": [
    "df.Loan_Amount_Term.value_counts(dropna=False)"
   ]
  },
  {
   "cell_type": "code",
   "execution_count": 29,
   "metadata": {
    "execution": {
     "iopub.execute_input": "2022-03-08T02:28:38.425945Z",
     "iopub.status.busy": "2022-03-08T02:28:38.425680Z",
     "iopub.status.idle": "2022-03-08T02:28:38.638040Z",
     "shell.execute_reply": "2022-03-08T02:28:38.637119Z",
     "shell.execute_reply.started": "2022-03-08T02:28:38.425914Z"
    },
    "executionInfo": {
     "elapsed": 744,
     "status": "ok",
     "timestamp": 1636215159671,
     "user": {
      "displayName": "Mario Caesar",
      "photoUrl": "https://lh3.googleusercontent.com/a-/AOh14GheyOtCjw9bQyrYjdnb46Fp9pWuEIUHVSHLqwMBBw=s64",
      "userId": "15479329890797732984"
     },
     "user_tz": -420
    },
    "id": "19IBVpnZO_kC",
    "outputId": "3c50a271-b3fe-4c25-c73c-e189bef48966"
   },
   "outputs": [
    {
     "data": {
      "image/png": "[encoded data removed]",
      "text/plain": [
       "<Figure size 432x288 with 1 Axes>"
      ]
     },
     "metadata": {
      "needs_background": "light"
     },
     "output_type": "display_data"
    }
   ],
   "source": [
    "sns.countplot(x=\"Loan_Amount_Term\", data=df, palette=\"rocket\")\n",
    "plt.show()"
   ]
  },
  {
   "cell_type": "code",
   "execution_count": 30,
   "metadata": {
    "execution": {
     "iopub.execute_input": "2022-03-08T02:28:38.639860Z",
     "iopub.status.busy": "2022-03-08T02:28:38.639601Z",
     "iopub.status.idle": "2022-03-08T02:28:38.661394Z",
     "shell.execute_reply": "2022-03-08T02:28:38.660356Z",
     "shell.execute_reply.started": "2022-03-08T02:28:38.639828Z"
    },
    "executionInfo": {
     "elapsed": 7,
     "status": "ok",
     "timestamp": 1636215159672,
     "user": {
      "displayName": "Mario Caesar",
      "photoUrl": "https://lh3.googleusercontent.com/a-/AOh14GheyOtCjw9bQyrYjdnb46Fp9pWuEIUHVSHLqwMBBw=s64",
      "userId": "15479329890797732984"
     },
     "user_tz": -420
    },
    "id": "4I7KGiUiO_kC",
    "outputId": "831b5372-2b68-40ae-8c9f-bade309f9b71"
   },
   "outputs": [
    {
     "name": "stdout",
     "output_type": "stream",
     "text": [
      "Percentage of 12: 0.16%\n",
      "Percentage of 36: 0.33%\n",
      "Percentage of 60: 0.33%\n",
      "Percentage of 84: 0.65%\n",
      "Percentage of 120: 0.49%\n",
      "Percentage of 180: 7.17%\n",
      "Percentage of 240: 0.65%\n",
      "Percentage of 300: 2.12%\n",
      "Percentage of 360: 83.39%\n",
      "Percentage of 480: 2.44%\n",
      "Missing values percentage: 2.28%\n"
     ]
    }
   ],
   "source": [
    "count12 = len(df[df.Loan_Amount_Term == 12.0])\n",
    "count36 = len(df[df.Loan_Amount_Term == 36.0])\n",
    "count60 = len(df[df.Loan_Amount_Term == 60.0])\n",
    "count84 = len(df[df.Loan_Amount_Term == 84.0])\n",
    "count120 = len(df[df.Loan_Amount_Term == 120.0])\n",
    "count180 = len(df[df.Loan_Amount_Term == 180.0])\n",
    "count240 = len(df[df.Loan_Amount_Term == 240.0])\n",
    "count300 = len(df[df.Loan_Amount_Term == 300.0])\n",
    "count360 = len(df[df.Loan_Amount_Term == 360.0])\n",
    "count480 = len(df[df.Loan_Amount_Term == 480.0])\n",
    "countNull = len(df[df.Loan_Amount_Term.isnull()])\n",
    "\n",
    "print(\"Percentage of 12: {:.2f}%\".format((count12 / (len(df.Loan_Amount_Term))*100)))\n",
    "print(\"Percentage of 36: {:.2f}%\".format((count36 / (len(df.Loan_Amount_Term))*100)))\n",
    "print(\"Percentage of 60: {:.2f}%\".format((count60 / (len(df.Loan_Amount_Term))*100)))\n",
    "print(\"Percentage of 84: {:.2f}%\".format((count84 / (len(df.Loan_Amount_Term))*100)))\n",
    "print(\"Percentage of 120: {:.2f}%\".format((count120 / (len(df.Loan_Amount_Term))*100)))\n",
    "print(\"Percentage of 180: {:.2f}%\".format((count180 / (len(df.Loan_Amount_Term))*100)))\n",
    "print(\"Percentage of 240: {:.2f}%\".format((count240 / (len(df.Loan_Amount_Term))*100)))\n",
    "print(\"Percentage of 300: {:.2f}%\".format((count300 / (len(df.Loan_Amount_Term))*100)))\n",
    "print(\"Percentage of 360: {:.2f}%\".format((count360 / (len(df.Loan_Amount_Term))*100)))\n",
    "print(\"Percentage of 480: {:.2f}%\".format((count480 / (len(df.Loan_Amount_Term))*100)))\n",
    "print(\"Missing values percentage: {:.2f}%\".format((countNull / (len(df.Loan_Amount_Term))*100)))"
   ]
  },
  {
   "cell_type": "markdown",
   "metadata": {
    "id": "SrCT3UlKO_kC"
   },
   "source": [
    "here the 360 days loan duration has more percentage compared to others."
   ]
  },
  {
   "cell_type": "markdown",
   "metadata": {
    "id": "uE8t92lRtCXr"
   },
   "source": [
    "# Numerical Variables \n"
   ]
  },
  {
   "cell_type": "markdown",
   "metadata": {
    "id": "OilcVn02ZLGC"
   },
   "source": [
    "### Describe Numerical Variable \n",
    "This section will show mean, count, std, min, max and others using describe function.\n"
   ]
  },
  {
   "cell_type": "code",
   "execution_count": 71,
   "metadata": {
    "execution": {
     "iopub.execute_input": "2022-03-08T02:28:38.663260Z",
     "iopub.status.busy": "2022-03-08T02:28:38.662874Z",
     "iopub.status.idle": "2022-03-08T02:28:38.688764Z",
     "shell.execute_reply": "2022-03-08T02:28:38.688190Z",
     "shell.execute_reply.started": "2022-03-08T02:28:38.663205Z"
    },
    "executionInfo": {
     "elapsed": 7,
     "status": "ok",
     "timestamp": 1636215159673,
     "user": {
      "displayName": "Mario Caesar",
      "photoUrl": "https://lh3.googleusercontent.com/a-/AOh14GheyOtCjw9bQyrYjdnb46Fp9pWuEIUHVSHLqwMBBw=s64",
      "userId": "15479329890797732984"
     },
     "user_tz": -420
    },
    "id": "JYmOMnqitb6s",
    "outputId": "98a0a42e-77d1-4a12-a92e-58cf5a317392"
   },
   "outputs": [
    {
     "data": {
      "text/html": [
       "<div>\n",
       "<style scoped>\n",
       "    .dataframe tbody tr th:only-of-type {\n",
       "        vertical-align: middle;\n",
       "    }\n",
       "\n",
       "    .dataframe tbody tr th {\n",
       "        vertical-align: top;\n",
       "    }\n",
       "\n",
       "    .dataframe thead th {\n",
       "        text-align: right;\n",
       "    }\n",
       "</style>\n",
       "<table border=\"1\" class=\"dataframe\">\n",
       "  <thead>\n",
       "    <tr style=\"text-align: right;\">\n",
       "      <th></th>\n",
       "      <th>ApplicantIncome</th>\n",
       "      <th>CoapplicantIncome</th>\n",
       "      <th>LoanAmount</th>\n",
       "    </tr>\n",
       "  </thead>\n",
       "  <tbody>\n",
       "    <tr>\n",
       "      <th>count</th>\n",
       "      <td>614.000000</td>\n",
       "      <td>614.000000</td>\n",
       "      <td>592.000000</td>\n",
       "    </tr>\n",
       "    <tr>\n",
       "      <th>mean</th>\n",
       "      <td>5403.459283</td>\n",
       "      <td>1621.245798</td>\n",
       "      <td>146.412162</td>\n",
       "    </tr>\n",
       "    <tr>\n",
       "      <th>std</th>\n",
       "      <td>6109.041673</td>\n",
       "      <td>2926.248369</td>\n",
       "      <td>85.587325</td>\n",
       "    </tr>\n",
       "    <tr>\n",
       "      <th>min</th>\n",
       "      <td>150.000000</td>\n",
       "      <td>0.000000</td>\n",
       "      <td>9.000000</td>\n",
       "    </tr>\n",
       "    <tr>\n",
       "      <th>25%</th>\n",
       "      <td>2877.500000</td>\n",
       "      <td>0.000000</td>\n",
       "      <td>100.000000</td>\n",
       "    </tr>\n",
       "    <tr>\n",
       "      <th>50%</th>\n",
       "      <td>3812.500000</td>\n",
       "      <td>1188.500000</td>\n",
       "      <td>128.000000</td>\n",
       "    </tr>\n",
       "    <tr>\n",
       "      <th>75%</th>\n",
       "      <td>5795.000000</td>\n",
       "      <td>2297.250000</td>\n",
       "      <td>168.000000</td>\n",
       "    </tr>\n",
       "    <tr>\n",
       "      <th>max</th>\n",
       "      <td>81000.000000</td>\n",
       "      <td>41667.000000</td>\n",
       "      <td>700.000000</td>\n",
       "    </tr>\n",
       "  </tbody>\n",
       "</table>\n",
       "</div>"
      ],
      "text/plain": [
       "       ApplicantIncome  CoapplicantIncome  LoanAmount\n",
       "count       614.000000         614.000000  592.000000\n",
       "mean       5403.459283        1621.245798  146.412162\n",
       "std        6109.041673        2926.248369   85.587325\n",
       "min         150.000000           0.000000    9.000000\n",
       "25%        2877.500000           0.000000  100.000000\n",
       "50%        3812.500000        1188.500000  128.000000\n",
       "75%        5795.000000        2297.250000  168.000000\n",
       "max       81000.000000       41667.000000  700.000000"
      ]
     },
     "execution_count": 71,
     "metadata": {},
     "output_type": "execute_result"
    }
   ],
   "source": [
    "df[['ApplicantIncome','CoapplicantIncome','LoanAmount']].describe()"
   ]
  },
  {
   "cell_type": "markdown",
   "metadata": {
    "id": "xVh_xjKZNFtZ"
   },
   "source": [
    "# Distribution of Numerical Variable \n",
    "here we can see the distribution of numerical variable using violin plot."
   ]
  },
  {
   "cell_type": "markdown",
   "metadata": {
    "id": "Wm-uWGyORLEh"
   },
   "source": [
    "#### Violin Plot "
   ]
  },
  {
   "cell_type": "code",
   "execution_count": 33,
   "metadata": {
    "execution": {
     "iopub.execute_input": "2022-03-08T02:28:39.973102Z",
     "iopub.status.busy": "2022-03-08T02:28:39.972416Z",
     "iopub.status.idle": "2022-03-08T02:28:40.810081Z",
     "shell.execute_reply": "2022-03-08T02:28:40.809237Z",
     "shell.execute_reply.started": "2022-03-08T02:28:39.973059Z"
    },
    "executionInfo": {
     "elapsed": 1225,
     "status": "ok",
     "timestamp": 1636215163524,
     "user": {
      "displayName": "Mario Caesar",
      "photoUrl": "https://lh3.googleusercontent.com/a-/AOh14GheyOtCjw9bQyrYjdnb46Fp9pWuEIUHVSHLqwMBBw=s64",
      "userId": "15479329890797732984"
     },
     "user_tz": -420
    },
    "id": "bqcMEGfUQDTM",
    "outputId": "38c360e8-3eb2-4b27-d939-7f3aa256c951"
   },
   "outputs": [
    {
     "data": {
      "image/png": "[encoded data removed]",
      "text/plain": [
       "<Figure size 720x720 with 4 Axes>"
      ]
     },
     "metadata": {},
     "output_type": "display_data"
    }
   ],
   "source": [
    "sns.set(style=\"darkgrid\")\n",
    "fig, axs1 = plt.subplots(2, 2, figsize=(10, 10))\n",
    "\n",
    "sns.violinplot(data=df, y=\"ApplicantIncome\", ax=axs1[0, 0], color='green')\n",
    "sns.violinplot(data=df, y=\"CoapplicantIncome\", ax=axs1[0, 1], color='skyblue')\n",
    "sns.violinplot(data=df, y=\"LoanAmount\", ax=axs1[1, 0], color='orange');"
   ]
  },
  {
   "cell_type": "markdown",
   "metadata": {
    "id": "26VEP1r5SyM_"
   },
   "source": [
    "The distribution of Applicant income, Co Applicant Income, and Loan Amount are positively skewed and it has outliers.\n",
    "The distribution of Loan Amount Term is negativly skewed and it has outliers.\n"
   ]
  },
  {
   "cell_type": "markdown",
   "metadata": {
    "id": "GsaiF0JAYrTA"
   },
   "source": []
  },
  {
   "cell_type": "markdown",
   "metadata": {
    "id": "IOm0V24oYyQb"
   },
   "source": [
    "###  Categorical  - Categorical Variables\n",
    "\n",
    "Now , we compare the two features likw categorical and numerical both\n",
    "\n",
    "here we are comapring the catogerical and categorical features\n"
   ]
  },
  {
   "cell_type": "code",
   "execution_count": 34,
   "metadata": {
    "execution": {
     "iopub.execute_input": "2022-03-08T02:28:41.233342Z",
     "iopub.status.busy": "2022-03-08T02:28:41.233063Z",
     "iopub.status.idle": "2022-03-08T02:28:41.480179Z",
     "shell.execute_reply": "2022-03-08T02:28:41.479096Z",
     "shell.execute_reply.started": "2022-03-08T02:28:41.233312Z"
    },
    "executionInfo": {
     "elapsed": 1066,
     "status": "ok",
     "timestamp": 1636215164586,
     "user": {
      "displayName": "Mario Caesar",
      "photoUrl": "https://lh3.googleusercontent.com/a-/AOh14GheyOtCjw9bQyrYjdnb46Fp9pWuEIUHVSHLqwMBBw=s64",
      "userId": "15479329890797732984"
     },
     "user_tz": -420
    },
    "id": "sO2zNOYmYxkt",
    "outputId": "54fc65c5-b890-488e-d471-72c986d1109d"
   },
   "outputs": [
    {
     "data": {
      "image/png": "[encoded data removed]",
      "text/plain": [
       "<Figure size 360x360 with 1 Axes>"
      ]
     },
     "metadata": {},
     "output_type": "display_data"
    }
   ],
   "source": [
    "pd.crosstab(df.Gender,df.Married).plot(kind=\"bar\", stacked=True, figsize=(5,5), color=['#f64f59','#12c2e9'])\n",
    "plt.title('Gender vs Married')\n",
    "plt.xlabel('Gender')\n",
    "plt.ylabel('Frequency')\n",
    "plt.xticks(rotation=0)\n",
    "plt.show()"
   ]
  },
  {
   "cell_type": "markdown",
   "metadata": {
    "id": "H2ic-PSOfxJq"
   },
   "source": [
    "Most male applicants are already married is high compared to female applicants. Also, the number of not married male applicants are higher compare to female applicants that had not married."
   ]
  },
  {
   "cell_type": "code",
   "execution_count": 35,
   "metadata": {
    "execution": {
     "iopub.execute_input": "2022-03-08T02:28:41.481676Z",
     "iopub.status.busy": "2022-03-08T02:28:41.481434Z",
     "iopub.status.idle": "2022-03-08T02:28:41.707093Z",
     "shell.execute_reply": "2022-03-08T02:28:41.706420Z",
     "shell.execute_reply.started": "2022-03-08T02:28:41.481646Z"
    },
    "executionInfo": {
     "elapsed": 10,
     "status": "ok",
     "timestamp": 1636215164586,
     "user": {
      "displayName": "Mario Caesar",
      "photoUrl": "https://lh3.googleusercontent.com/a-/AOh14GheyOtCjw9bQyrYjdnb46Fp9pWuEIUHVSHLqwMBBw=s64",
      "userId": "15479329890797732984"
     },
     "user_tz": -420
    },
    "id": "Qkge_XadbuLA",
    "outputId": "90ab5cd5-3a90-48e8-b200-465ad802c86b"
   },
   "outputs": [
    {
     "data": {
      "image/png": "[encoded data removed]",
      "text/plain": [
       "<Figure size 360x360 with 1 Axes>"
      ]
     },
     "metadata": {},
     "output_type": "display_data"
    }
   ],
   "source": [
    "# here we comapring the both are categorical variables self employed and credit history\n",
    "\n",
    "pd.crosstab(df.Self_Employed,df.Credit_History).plot(kind=\"bar\", stacked=True, figsize=(5,5), color=['#544a7d','#ffd452'])\n",
    "plt.title('Self Employed vs Credit History')\n",
    "plt.xlabel('Self Employed')\n",
    "plt.ylabel('Frequency')\n",
    "plt.legend([\"Bad Credit\", \"Good Credit\"])\n",
    "plt.xticks(rotation=0)\n",
    "plt.show()"
   ]
  },
  {
   "cell_type": "markdown",
   "metadata": {
    "id": "Ab_vh1DWgFS3"
   },
   "source": [
    "here not self employed applicants have good credit when compared to self employed applicants."
   ]
  },
  {
   "cell_type": "code",
   "execution_count": 36,
   "metadata": {
    "execution": {
     "iopub.execute_input": "2022-03-08T02:28:41.709163Z",
     "iopub.status.busy": "2022-03-08T02:28:41.708419Z",
     "iopub.status.idle": "2022-03-08T02:28:41.960066Z",
     "shell.execute_reply": "2022-03-08T02:28:41.958392Z",
     "shell.execute_reply.started": "2022-03-08T02:28:41.709099Z"
    },
    "executionInfo": {
     "elapsed": 10,
     "status": "ok",
     "timestamp": 1636215164587,
     "user": {
      "displayName": "Mario Caesar",
      "photoUrl": "https://lh3.googleusercontent.com/a-/AOh14GheyOtCjw9bQyrYjdnb46Fp9pWuEIUHVSHLqwMBBw=s64",
      "userId": "15479329890797732984"
     },
     "user_tz": -420
    },
    "id": "p1ztJv3wcyRA",
    "outputId": "de51e6c0-fa1a-441b-aefc-b7f9d3a49ea4"
   },
   "outputs": [
    {
     "data": {
      "image/png": "[encoded data removed]",
      "text/plain": [
       "<Figure size 360x360 with 1 Axes>"
      ]
     },
     "metadata": {},
     "output_type": "display_data"
    }
   ],
   "source": [
    "pd.crosstab(df.Property_Area,df.Loan_Status).plot(kind=\"bar\", stacked=True, figsize=(5,5), color=['#333333','#dd1818'])\n",
    "plt.title('Property Area vs Loan Status')\n",
    "plt.xlabel('Property Area')\n",
    "plt.ylabel('Frequency')\n",
    "plt.xticks(rotation=0)\n",
    "plt.show()"
   ]
  },
  {
   "cell_type": "markdown",
   "metadata": {
    "id": "yj4e2UvjgWsm"
   },
   "source": [
    "here we can see that properties in semi-urban area has more acceptence of loan status"
   ]
  },
  {
   "cell_type": "markdown",
   "metadata": {
    "id": "GkPfU3KQdJvH"
   },
   "source": [
    "###  Categorical- Numerical features"
   ]
  },
  {
   "cell_type": "code",
   "execution_count": 37,
   "metadata": {
    "execution": {
     "iopub.execute_input": "2022-03-08T02:28:41.962272Z",
     "iopub.status.busy": "2022-03-08T02:28:41.961863Z",
     "iopub.status.idle": "2022-03-08T02:28:42.203300Z",
     "shell.execute_reply": "2022-03-08T02:28:42.202422Z",
     "shell.execute_reply.started": "2022-03-08T02:28:41.962219Z"
    },
    "executionInfo": {
     "elapsed": 9,
     "status": "ok",
     "timestamp": 1636215164587,
     "user": {
      "displayName": "Mario Caesar",
      "photoUrl": "https://lh3.googleusercontent.com/a-/AOh14GheyOtCjw9bQyrYjdnb46Fp9pWuEIUHVSHLqwMBBw=s64",
      "userId": "15479329890797732984"
     },
     "user_tz": -420
    },
    "id": "8KXyIhTWdNoP",
    "outputId": "bd86772f-6998-4945-9f6e-840becad037d"
   },
   "outputs": [
    {
     "data": {
      "image/png": "[encoded data removed]",
      "text/plain": [
       "<Figure size 432x288 with 1 Axes>"
      ]
     },
     "metadata": {},
     "output_type": "display_data"
    }
   ],
   "source": [
    "# now check with if there is any outliers in applicantincome and co-applicant income with diffeerent types plots\n",
    "\n",
    "sns.boxplot(x=\"Loan_Status\", y=\"ApplicantIncome\", data=df, palette=\"mako\");\n",
    "# there are some outliers in applicants income with loan status"
   ]
  },
  {
   "cell_type": "code",
   "execution_count": 38,
   "metadata": {
    "execution": {
     "iopub.execute_input": "2022-03-08T02:28:42.204811Z",
     "iopub.status.busy": "2022-03-08T02:28:42.204583Z",
     "iopub.status.idle": "2022-03-08T02:28:42.444504Z",
     "shell.execute_reply": "2022-03-08T02:28:42.443405Z",
     "shell.execute_reply.started": "2022-03-08T02:28:42.204783Z"
    },
    "executionInfo": {
     "elapsed": 8,
     "status": "ok",
     "timestamp": 1636215164587,
     "user": {
      "displayName": "Mario Caesar",
      "photoUrl": "https://lh3.googleusercontent.com/a-/AOh14GheyOtCjw9bQyrYjdnb46Fp9pWuEIUHVSHLqwMBBw=s64",
      "userId": "15479329890797732984"
     },
     "user_tz": -420
    },
    "id": "UQgw9pSSdNgK",
    "outputId": "1b8f1689-5929-4d51-d774-8ebc72803330"
   },
   "outputs": [
    {
     "data": {
      "image/png": "[encoded data removed]",
      "text/plain": [
       "<Figure size 432x288 with 1 Axes>"
      ]
     },
     "metadata": {},
     "output_type": "display_data"
    }
   ],
   "source": [
    "sns.boxplot(x=\"CoapplicantIncome\", y=\"Loan_Status\", data=df, palette=\"rocket\");"
   ]
  },
  {
   "cell_type": "markdown",
   "metadata": {
    "id": "Y7DFLTqpibiJ"
   },
   "source": [
    "here we can see that Co-Applicant Income has a number of outliers, and the distribution is also positively skewed."
   ]
  },
  {
   "cell_type": "code",
   "execution_count": 39,
   "metadata": {
    "execution": {
     "iopub.execute_input": "2022-03-08T02:28:42.446574Z",
     "iopub.status.busy": "2022-03-08T02:28:42.446227Z",
     "iopub.status.idle": "2022-03-08T02:28:42.668234Z",
     "shell.execute_reply": "2022-03-08T02:28:42.667278Z",
     "shell.execute_reply.started": "2022-03-08T02:28:42.446528Z"
    },
    "executionInfo": {
     "elapsed": 801,
     "status": "ok",
     "timestamp": 1636215165381,
     "user": {
      "displayName": "Mario Caesar",
      "photoUrl": "https://lh3.googleusercontent.com/a-/AOh14GheyOtCjw9bQyrYjdnb46Fp9pWuEIUHVSHLqwMBBw=s64",
      "userId": "15479329890797732984"
     },
     "user_tz": -420
    },
    "id": "341fyImTdNO9",
    "outputId": "e2f5ee90-ebc8-446d-8d75-d8de51872e3b"
   },
   "outputs": [
    {
     "data": {
      "image/png": "[encoded data removed]",
      "text/plain": [
       "<Figure size 432x288 with 1 Axes>"
      ]
     },
     "metadata": {},
     "output_type": "display_data"
    }
   ],
   "source": [
    "sns.boxplot(x=\"Loan_Status\", y=\"LoanAmount\", data=df, palette=\"YlOrBr\");"
   ]
  },
  {
   "cell_type": "markdown",
   "metadata": {
    "id": "35BpJYOJio5M"
   },
   "source": [
    "here, we can see that Co-Applicant Income has a high number of outliers, and the distribution is also positively skewed."
   ]
  },
  {
   "cell_type": "markdown",
   "metadata": {
    "id": "qwYT4WuSi1BA"
   },
   "source": [
    "###  Numerical - Numerical "
   ]
  },
  {
   "cell_type": "code",
   "execution_count": 40,
   "metadata": {
    "execution": {
     "iopub.execute_input": "2022-03-08T02:28:42.669929Z",
     "iopub.status.busy": "2022-03-08T02:28:42.669691Z",
     "iopub.status.idle": "2022-03-08T02:28:42.965600Z",
     "shell.execute_reply": "2022-03-08T02:28:42.964525Z",
     "shell.execute_reply.started": "2022-03-08T02:28:42.669899Z"
    },
    "executionInfo": {
     "elapsed": 10,
     "status": "ok",
     "timestamp": 1636215165382,
     "user": {
      "displayName": "Mario Caesar",
      "photoUrl": "https://lh3.googleusercontent.com/a-/AOh14GheyOtCjw9bQyrYjdnb46Fp9pWuEIUHVSHLqwMBBw=s64",
      "userId": "15479329890797732984"
     },
     "user_tz": -420
    },
    "id": "xEWeAA3Fi3XJ",
    "outputId": "5df5dfce-7ac0-4df4-f570-f580025ef1fa"
   },
   "outputs": [
    {
     "data": {
      "image/png": "[encoded data removed]",
      "text/plain": [
       "<Figure size 432x288 with 1 Axes>"
      ]
     },
     "metadata": {},
     "output_type": "display_data"
    },
    {
     "name": "stdout",
     "output_type": "stream",
     "text": [
      "Pearson correlation: -0.11660458122889966\n",
      "T Test and P value: \n",
      " Ttest_indResult(statistic=13.835753259915661, pvalue=1.4609839484240346e-40)\n"
     ]
    }
   ],
   "source": [
    "df.plot(x='ApplicantIncome', y='CoapplicantIncome', style='o')  \n",
    "plt.title('Applicant Income - Co Applicant Income')  \n",
    "plt.xlabel('ApplicantIncome')\n",
    "plt.ylabel('CoapplicantIncome')  \n",
    "plt.show()\n",
    "print('Pearson correlation:', df['ApplicantIncome'].corr(df['CoapplicantIncome']))\n",
    "print('T Test and P value: \\n', stats.ttest_ind(df['ApplicantIncome'], df['CoapplicantIncome']))"
   ]
  },
  {
   "cell_type": "markdown",
   "metadata": {
    "id": "9W0f-Mi5q_WA"
   },
   "source": [
    "here the negative correlation is happening between them and also it has 95 percent confidence interval"
   ]
  },
  {
   "cell_type": "markdown",
   "metadata": {
    "id": "Jq0D9_A1VSV9"
   },
   "source": [
    "## Null Values"
   ]
  },
  {
   "cell_type": "code",
   "execution_count": 41,
   "metadata": {
    "execution": {
     "iopub.execute_input": "2022-03-08T02:28:42.967429Z",
     "iopub.status.busy": "2022-03-08T02:28:42.967162Z",
     "iopub.status.idle": "2022-03-08T02:28:42.978964Z",
     "shell.execute_reply": "2022-03-08T02:28:42.977764Z",
     "shell.execute_reply.started": "2022-03-08T02:28:42.967397Z"
    },
    "executionInfo": {
     "elapsed": 9,
     "status": "ok",
     "timestamp": 1636215165382,
     "user": {
      "displayName": "Mario Caesar",
      "photoUrl": "https://lh3.googleusercontent.com/a-/AOh14GheyOtCjw9bQyrYjdnb46Fp9pWuEIUHVSHLqwMBBw=s64",
      "userId": "15479329890797732984"
     },
     "user_tz": -420
    },
    "id": "Buorzh0-VVPS",
    "outputId": "6592eeef-9c3c-4d11-f84c-30b18d4f25a2"
   },
   "outputs": [
    {
     "data": {
      "text/plain": [
       "Loan_ID               0\n",
       "Gender               13\n",
       "Married               3\n",
       "Dependents           15\n",
       "Education             0\n",
       "Self_Employed        32\n",
       "ApplicantIncome       0\n",
       "CoapplicantIncome     0\n",
       "LoanAmount           22\n",
       "Loan_Amount_Term     14\n",
       "Credit_History       50\n",
       "Property_Area         0\n",
       "Loan_Status           0\n",
       "dtype: int64"
      ]
     },
     "execution_count": 41,
     "metadata": {},
     "output_type": "execute_result"
    }
   ],
   "source": [
    "df.isnull().sum()"
   ]
  },
  {
   "cell_type": "markdown",
   "metadata": {
    "id": "i0K8wc4UVyX2"
   },
   "source": [
    "# Data Preprocessing"
   ]
  },
  {
   "cell_type": "markdown",
   "metadata": {
    "id": "_JhvC2qZW4ke"
   },
   "source": [
    "## Droping Unecessary Variables\n",
    " Unecessary variables will be dropped in this section."
   ]
  },
  {
   "cell_type": "code",
   "execution_count": 44,
   "metadata": {
    "execution": {
     "iopub.execute_input": "2022-03-08T02:28:44.080450Z",
     "iopub.status.busy": "2022-03-08T02:28:44.079771Z",
     "iopub.status.idle": "2022-03-08T02:28:44.089968Z",
     "shell.execute_reply": "2022-03-08T02:28:44.088803Z",
     "shell.execute_reply.started": "2022-03-08T02:28:44.080387Z"
    },
    "id": "w255orBlXxSC"
   },
   "outputs": [],
   "source": [
    "df = df.drop(['Loan_ID'], axis = 1)"
   ]
  },
  {
   "cell_type": "markdown",
   "metadata": {
    "id": "E9RXvNsoV16b"
   },
   "source": [
    "## Data Imputation\n",
    "Imputation is a technique for substituting an estimated value for missing values in a dataset. "
   ]
  },
  {
   "cell_type": "markdown",
   "metadata": {
    "id": "uziNPF4eGlyJ"
   },
   "source": [
    "### Categorical Variables \n",
    "here we do the imputation for categorical variables will be performed using *mode*."
   ]
  },
  {
   "cell_type": "code",
   "execution_count": 45,
   "metadata": {
    "execution": {
     "iopub.execute_input": "2022-03-08T02:28:44.092049Z",
     "iopub.status.busy": "2022-03-08T02:28:44.091450Z",
     "iopub.status.idle": "2022-03-08T02:28:44.107656Z",
     "shell.execute_reply": "2022-03-08T02:28:44.106250Z",
     "shell.execute_reply.started": "2022-03-08T02:28:44.091906Z"
    },
    "id": "1Dna_U33V09a"
   },
   "outputs": [],
   "source": [
    "df['Gender'].fillna(df['Gender'].mode()[0],inplace=True)\n",
    "df['Married'].fillna(df['Married'].mode()[0],inplace=True)\n",
    "df['Dependents'].fillna(df['Dependents'].mode()[0],inplace=True)\n",
    "df['Self_Employed'].fillna(df['Self_Employed'].mode()[0],inplace=True)\n",
    "df['Credit_History'].fillna(df['Credit_History'].mode()[0],inplace=True)\n",
    "df['Loan_Amount_Term'].fillna(df['Loan_Amount_Term'].mode()[0],inplace=True)"
   ]
  },
  {
   "cell_type": "markdown",
   "metadata": {
    "id": "7s3L4BM0Gvpr"
   },
   "source": [
    "### Numerical Variables\n",
    "here we do the imputation for numerical variables using *mean*"
   ]
  },
  {
   "cell_type": "code",
   "execution_count": 46,
   "metadata": {
    "execution": {
     "iopub.execute_input": "2022-03-08T02:28:44.109628Z",
     "iopub.status.busy": "2022-03-08T02:28:44.109095Z",
     "iopub.status.idle": "2022-03-08T02:28:44.122222Z",
     "shell.execute_reply": "2022-03-08T02:28:44.120866Z",
     "shell.execute_reply.started": "2022-03-08T02:28:44.109587Z"
    },
    "id": "OayJ893bG665"
   },
   "outputs": [],
   "source": [
    "df['LoanAmount'].fillna(df['LoanAmount'].mean(),inplace=True)"
   ]
  },
  {
   "cell_type": "markdown",
   "metadata": {
    "id": "svjroAn8KInZ"
   },
   "source": [
    "## One-hot Encoding\n",
    "Now, we have to convert catogerical variables in to numbers because machine algos can't do better work with\n",
    "categorical variables so that's why we use one hot encoding"
   ]
  },
  {
   "cell_type": "code",
   "execution_count": 47,
   "metadata": {
    "execution": {
     "iopub.execute_input": "2022-03-08T02:28:44.124643Z",
     "iopub.status.busy": "2022-03-08T02:28:44.123834Z",
     "iopub.status.idle": "2022-03-08T02:28:44.147410Z",
     "shell.execute_reply": "2022-03-08T02:28:44.146216Z",
     "shell.execute_reply.started": "2022-03-08T02:28:44.124603Z"
    },
    "id": "JPrZD3MHLBJO"
   },
   "outputs": [],
   "source": [
    "# here dummies are used to convert categorical variables in to add variables  \n",
    "\n",
    "df = pd.get_dummies(df)\n",
    "\n",
    "# Droping columns\n",
    "df = df.drop(['Gender_Female', 'Married_No', 'Education_Not Graduate', \n",
    "              'Self_Employed_No', 'Loan_Status_N'], axis = 1)\n",
    "\n",
    "# Renaming columns name\n",
    "new = {'Gender_Male': 'Gender', 'Married_Yes': 'Married', \n",
    "       'Education_Graduate': 'Education', 'Self_Employed_Yes': 'Self_Employed',\n",
    "       'Loan_Status_Y': 'Loan_Status'}\n",
    "       \n",
    "df.rename(columns=new, inplace=True)"
   ]
  },
  {
   "cell_type": "markdown",
   "metadata": {
    "id": "4xekDiffkIIb"
   },
   "source": [
    "## Remove Outliers\n",
    "\n",
    "Outliers leads to abnormality of data so we have to remove to outliers by using quantile method"
   ]
  },
  {
   "cell_type": "code",
   "execution_count": 48,
   "metadata": {
    "execution": {
     "iopub.execute_input": "2022-03-08T02:28:44.149217Z",
     "iopub.status.busy": "2022-03-08T02:28:44.148939Z",
     "iopub.status.idle": "2022-03-08T02:28:44.165845Z",
     "shell.execute_reply": "2022-03-08T02:28:44.164707Z",
     "shell.execute_reply.started": "2022-03-08T02:28:44.149184Z"
    },
    "id": "7xXzLUK4kHsf"
   },
   "outputs": [],
   "source": [
    "Q1 = df.quantile(0.25)\n",
    "Q3 = df.quantile(0.75)\n",
    "IQR = Q3 - Q1\n",
    "\n",
    "df = df[~((df < (Q1 - 1.5 * IQR)) |(df > (Q3 + 1.5 * IQR))).any(axis=1)]"
   ]
  },
  {
   "cell_type": "markdown",
   "metadata": {
    "id": "r7hJ7w6dMlZk"
   },
   "source": [
    "## Square Root Transformation\n",
    "\n",
    "Here, we use *square root transformation* to normalized the distribution.\n",
    " it is used to normalize the skewed data for smooth curve of data"
   ]
  },
  {
   "cell_type": "code",
   "execution_count": 49,
   "metadata": {
    "execution": {
     "iopub.execute_input": "2022-03-08T02:28:44.168861Z",
     "iopub.status.busy": "2022-03-08T02:28:44.167869Z",
     "iopub.status.idle": "2022-03-08T02:28:44.176992Z",
     "shell.execute_reply": "2022-03-08T02:28:44.175920Z",
     "shell.execute_reply.started": "2022-03-08T02:28:44.168808Z"
    },
    "executionInfo": {
     "elapsed": 9,
     "status": "ok",
     "timestamp": 1636215166057,
     "user": {
      "displayName": "Mario Caesar",
      "photoUrl": "https://lh3.googleusercontent.com/a-/AOh14GheyOtCjw9bQyrYjdnb46Fp9pWuEIUHVSHLqwMBBw=s64",
      "userId": "15479329890797732984"
     },
     "user_tz": -420
    },
    "id": "fMwoGg5BOKjo",
    "outputId": "354cd395-9fe5-4fc9-9ed7-07592e3b3e0a"
   },
   "outputs": [],
   "source": [
    "# Square Root Transformation\n",
    "\n",
    "df.ApplicantIncome = np.sqrt(df.ApplicantIncome)\n",
    "df.CoapplicantIncome = np.sqrt(df.CoapplicantIncome)\n",
    "df.LoanAmount = np.sqrt(df.LoanAmount)"
   ]
  },
  {
   "cell_type": "markdown",
   "metadata": {
    "id": "RF-7s2avUipu"
   },
   "source": []
  },
  {
   "cell_type": "markdown",
   "metadata": {
    "id": "E6V0WTjKgwFj"
   },
   "source": [
    "## Features Separating\n",
    "Dependent features (Loan_Status) will be seperated from independent features."
   ]
  },
  {
   "cell_type": "code",
   "execution_count": 51,
   "metadata": {
    "execution": {
     "iopub.execute_input": "2022-03-08T02:28:45.111209Z",
     "iopub.status.busy": "2022-03-08T02:28:45.110940Z",
     "iopub.status.idle": "2022-03-08T02:28:45.117839Z",
     "shell.execute_reply": "2022-03-08T02:28:45.116948Z",
     "shell.execute_reply.started": "2022-03-08T02:28:45.111179Z"
    },
    "id": "sJJVP_kPhZh1"
   },
   "outputs": [],
   "source": [
    "X = df.drop([\"Loan_Status\"], axis=1)\n",
    "y = df[\"Loan_Status\"]"
   ]
  },
  {
   "cell_type": "markdown",
   "metadata": {
    "id": "UpuBMRbEUx5n"
   },
   "source": [
    "## SMOTE Technique\n",
    "In previous exploration, it can be seen that *the number between approved and rejected loan is imbalanced*. In this section, *oversampling technique will be used to avoid overfitting*,"
   ]
  },
  {
   "cell_type": "code",
   "execution_count": 52,
   "metadata": {
    "execution": {
     "iopub.execute_input": "2022-03-08T02:28:45.119406Z",
     "iopub.status.busy": "2022-03-08T02:28:45.119077Z",
     "iopub.status.idle": "2022-03-08T02:28:45.146851Z",
     "shell.execute_reply": "2022-03-08T02:28:45.146082Z",
     "shell.execute_reply.started": "2022-03-08T02:28:45.119373Z"
    },
    "id": "FRrTxXZNU7Wg"
   },
   "outputs": [],
   "source": [
    "X, y = SMOTE().fit_resample(X, y)"
   ]
  },
  {
   "cell_type": "markdown",
   "metadata": {
    "id": "deRoCdMn0Y4S"
   },
   "source": [
    "## Data Normalization\n",
    "Here, we perform normalization *to normalize the range of independent variables or features of data*"
   ]
  },
  {
   "cell_type": "code",
   "execution_count": 54,
   "metadata": {
    "execution": {
     "iopub.execute_input": "2022-03-08T02:28:45.366079Z",
     "iopub.status.busy": "2022-03-08T02:28:45.365698Z",
     "iopub.status.idle": "2022-03-08T02:28:45.374013Z",
     "shell.execute_reply": "2022-03-08T02:28:45.373349Z",
     "shell.execute_reply.started": "2022-03-08T02:28:45.366029Z"
    },
    "id": "WmA2qj9y0Yqo"
   },
   "outputs": [],
   "source": [
    "X = MinMaxScaler().fit_transform(X)"
   ]
  },
  {
   "cell_type": "markdown",
   "metadata": {
    "id": "n9-O0Q9D3XwK"
   },
   "source": [
    "## Splitting Data Set\n",
    "Here, we split our data in to 80 and 20 percent for test and train purposes"
   ]
  },
  {
   "cell_type": "code",
   "execution_count": 55,
   "metadata": {
    "execution": {
     "iopub.execute_input": "2022-03-08T02:28:45.375483Z",
     "iopub.status.busy": "2022-03-08T02:28:45.375256Z",
     "iopub.status.idle": "2022-03-08T02:28:45.388807Z",
     "shell.execute_reply": "2022-03-08T02:28:45.387927Z",
     "shell.execute_reply.started": "2022-03-08T02:28:45.375455Z"
    },
    "id": "sfenUwlr3c2Y"
   },
   "outputs": [],
   "source": [
    "X_train, X_test, y_train, y_test = train_test_split(X, y, test_size = 0.2, random_state = 0)"
   ]
  },
  {
   "cell_type": "markdown",
   "metadata": {
    "id": "3ixOkJUx3puI"
   },
   "source": [
    "# Model Implementation"
   ]
  },
  {
   "cell_type": "markdown",
   "metadata": {
    "id": "MS0qL8PC4K3o"
   },
   "source": [
    "##  Logistic Regression"
   ]
  },
  {
   "cell_type": "code",
   "execution_count": 60,
   "metadata": {
    "execution": {
     "iopub.execute_input": "2022-03-08T02:28:45.391439Z",
     "iopub.status.busy": "2022-03-08T02:28:45.390161Z",
     "iopub.status.idle": "2022-03-08T02:28:45.410919Z",
     "shell.execute_reply": "2022-03-08T02:28:45.410085Z",
     "shell.execute_reply.started": "2022-03-08T02:28:45.391364Z"
    },
    "executionInfo": {
     "elapsed": 19,
     "status": "ok",
     "timestamp": 1636215168414,
     "user": {
      "displayName": "Mario Caesar",
      "photoUrl": "https://lh3.googleusercontent.com/a-/AOh14GheyOtCjw9bQyrYjdnb46Fp9pWuEIUHVSHLqwMBBw=s64",
      "userId": "15479329890797732984"
     },
     "user_tz": -420
    },
    "id": "Xa5A1VSf4Fgu",
    "outputId": "8b03e79f-86a0-4abf-c15e-47db0f151b0c"
   },
   "outputs": [
    {
     "name": "stdout",
     "output_type": "stream",
     "text": [
      "              precision    recall  f1-score   support\n",
      "\n",
      "           0       0.82      0.78      0.80        23\n",
      "           1       0.78      0.82      0.80        22\n",
      "\n",
      "    accuracy                           0.80        45\n",
      "   macro avg       0.80      0.80      0.80        45\n",
      "weighted avg       0.80      0.80      0.80        45\n",
      "\n",
      "[[18  5]\n",
      " [ 4 18]]\n",
      "LR accuracy: 80.00%\n"
     ]
    }
   ],
   "source": [
    "LRclassifier = LogisticRegression(solver='saga', max_iter=500, random_state=1)\n",
    "LRclassifier.fit(X_train, y_train)\n",
    "\n",
    "y_pred = LRclassifier.predict(X_test)\n",
    "\n",
    "print(classification_report(y_test, y_pred))\n",
    "print(confusion_matrix(y_test, y_pred))\n",
    "\n",
    "from sklearn.metrics import accuracy_score\n",
    "LRAcc = accuracy_score(y_pred,y_test)\n",
    "print('LR accuracy: {:.2f}%'.format(LRAcc*100))"
   ]
  },
  {
   "cell_type": "markdown",
   "metadata": {
    "id": "1taw0vyy7hu9"
   },
   "source": [
    "##  K-Nearest Neighbour (KNN)"
   ]
  },
  {
   "cell_type": "code",
   "execution_count": 61,
   "metadata": {
    "execution": {
     "iopub.execute_input": "2022-03-08T02:28:45.412650Z",
     "iopub.status.busy": "2022-03-08T02:28:45.412265Z",
     "iopub.status.idle": "2022-03-08T02:28:45.798624Z",
     "shell.execute_reply": "2022-03-08T02:28:45.797526Z",
     "shell.execute_reply.started": "2022-03-08T02:28:45.412618Z"
    },
    "executionInfo": {
     "elapsed": 16,
     "status": "ok",
     "timestamp": 1636215168414,
     "user": {
      "displayName": "Mario Caesar",
      "photoUrl": "https://lh3.googleusercontent.com/a-/AOh14GheyOtCjw9bQyrYjdnb46Fp9pWuEIUHVSHLqwMBBw=s64",
      "userId": "15479329890797732984"
     },
     "user_tz": -420
    },
    "id": "1c77uWXR5bwM",
    "outputId": "cc161975-009f-4f61-a175-86f581c6ae39"
   },
   "outputs": [
    {
     "data": {
      "image/png": "[encoded data removed]",
      "text/plain": [
       "<Figure size 432x288 with 1 Axes>"
      ]
     },
     "metadata": {},
     "output_type": "display_data"
    },
    {
     "name": "stdout",
     "output_type": "stream",
     "text": [
      "KNN best accuracy: 86.67%\n"
     ]
    }
   ],
   "source": [
    "scoreListknn = []\n",
    "for i in range(1,21):\n",
    "    KNclassifier = KNeighborsClassifier(n_neighbors = i)\n",
    "    KNclassifier.fit(X_train, y_train)\n",
    "    scoreListknn.append(KNclassifier.score(X_test, y_test))\n",
    "    \n",
    "plt.plot(range(1,21), scoreListknn)\n",
    "plt.xticks(np.arange(1,21,1))\n",
    "plt.xlabel(\"K value\")\n",
    "plt.ylabel(\"Score\")\n",
    "plt.show()\n",
    "KNAcc = max(scoreListknn)\n",
    "print(\"KNN best accuracy: {:.2f}%\".format(KNAcc*100))"
   ]
  },
  {
   "cell_type": "markdown",
   "metadata": {
    "id": "sZiCQChQ8IUG"
   },
   "source": [
    "##  Support Vector Machine (SVM)"
   ]
  },
  {
   "cell_type": "code",
   "execution_count": 58,
   "metadata": {
    "execution": {
     "iopub.execute_input": "2022-03-08T02:28:45.800881Z",
     "iopub.status.busy": "2022-03-08T02:28:45.800593Z",
     "iopub.status.idle": "2022-03-08T02:28:45.816735Z",
     "shell.execute_reply": "2022-03-08T02:28:45.815706Z",
     "shell.execute_reply.started": "2022-03-08T02:28:45.800841Z"
    },
    "executionInfo": {
     "elapsed": 15,
     "status": "ok",
     "timestamp": 1636215168414,
     "user": {
      "displayName": "Mario Caesar",
      "photoUrl": "https://lh3.googleusercontent.com/a-/AOh14GheyOtCjw9bQyrYjdnb46Fp9pWuEIUHVSHLqwMBBw=s64",
      "userId": "15479329890797732984"
     },
     "user_tz": -420
    },
    "id": "EaPdKhgx8RsA",
    "outputId": "9eea4d16-5f9c-49d3-feb1-5e1baf9dce68"
   },
   "outputs": [
    {
     "name": "stdout",
     "output_type": "stream",
     "text": [
      "              precision    recall  f1-score   support\n",
      "\n",
      "           0       0.95      0.78      0.86        23\n",
      "           1       0.81      0.95      0.88        22\n",
      "\n",
      "    accuracy                           0.87        45\n",
      "   macro avg       0.88      0.87      0.87        45\n",
      "weighted avg       0.88      0.87      0.87        45\n",
      "\n",
      "[[18  5]\n",
      " [ 1 21]]\n",
      "SVC accuracy: 86.67%\n"
     ]
    }
   ],
   "source": [
    "SVCclassifier = SVC(kernel='rbf', max_iter=500)\n",
    "SVCclassifier.fit(X_train, y_train)\n",
    "\n",
    "y_pred = SVCclassifier.predict(X_test)\n",
    "\n",
    "print(classification_report(y_test, y_pred))\n",
    "print(confusion_matrix(y_test, y_pred))\n",
    "\n",
    "from sklearn.metrics import accuracy_score\n",
    "SVCAcc = accuracy_score(y_pred,y_test)\n",
    "print('SVC accuracy: {:.2f}%'.format(SVCAcc*100))"
   ]
  },
  {
   "cell_type": "markdown",
   "metadata": {
    "id": "GfW_OJU69opG"
   },
   "source": [
    "##  Random Forest"
   ]
  },
  {
   "cell_type": "code",
   "execution_count": 62,
   "metadata": {
    "execution": {
     "iopub.execute_input": "2022-03-08T02:28:46.413245Z",
     "iopub.status.busy": "2022-03-08T02:28:46.412985Z",
     "iopub.status.idle": "2022-03-08T02:29:19.705356Z",
     "shell.execute_reply": "2022-03-08T02:29:19.704417Z",
     "shell.execute_reply.started": "2022-03-08T02:28:46.413213Z"
    },
    "executionInfo": {
     "elapsed": 33809,
     "status": "ok",
     "timestamp": 1636215203059,
     "user": {
      "displayName": "Mario Caesar",
      "photoUrl": "https://lh3.googleusercontent.com/a-/AOh14GheyOtCjw9bQyrYjdnb46Fp9pWuEIUHVSHLqwMBBw=s64",
      "userId": "15479329890797732984"
     },
     "user_tz": -420
    },
    "id": "TnLwqYnP9pD7",
    "outputId": "1f94c144-81b1-4f57-973f-e150b09a656b"
   },
   "outputs": [
    {
     "data": {
      "image/png": "[encoded data removed]",
      "text/plain": [
       "<Figure size 432x288 with 1 Axes>"
      ]
     },
     "metadata": {},
     "output_type": "display_data"
    },
    {
     "name": "stdout",
     "output_type": "stream",
     "text": [
      "Random Forest Accuracy:  82.22%\n"
     ]
    }
   ],
   "source": [
    "scoreListRF = []\n",
    "for i in range(2,25):\n",
    "    RFclassifier = RandomForestClassifier(n_estimators = 1000, random_state = 1, max_leaf_nodes=i)\n",
    "    RFclassifier.fit(X_train, y_train)\n",
    "    scoreListRF.append(RFclassifier.score(X_test, y_test))\n",
    "    \n",
    "plt.plot(range(2,25), scoreListRF)\n",
    "plt.xticks(np.arange(2,25,1))\n",
    "plt.xlabel(\"RF Value\")\n",
    "plt.ylabel(\"Score\")\n",
    "plt.show()\n",
    "RFAcc = max(scoreListRF)\n",
    "\n",
    "print(\"Random Forest Accuracy:  {:.2f}%\".format(RFAcc*100))"
   ]
  },
  {
   "cell_type": "markdown",
   "metadata": {
    "id": "x1vw6r9ICK8J"
   },
   "source": [
    "# Comapring the Models"
   ]
  },
  {
   "cell_type": "code",
   "execution_count": 64,
   "metadata": {
    "execution": {
     "iopub.execute_input": "2022-03-08T02:29:59.169877Z",
     "iopub.status.busy": "2022-03-08T02:29:59.169277Z",
     "iopub.status.idle": "2022-03-08T02:29:59.184409Z",
     "shell.execute_reply": "2022-03-08T02:29:59.183302Z",
     "shell.execute_reply.started": "2022-03-08T02:29:59.169833Z"
    },
    "executionInfo": {
     "elapsed": 11,
     "status": "ok",
     "timestamp": 1636215250790,
     "user": {
      "displayName": "Mario Caesar",
      "photoUrl": "https://lh3.googleusercontent.com/a-/AOh14GheyOtCjw9bQyrYjdnb46Fp9pWuEIUHVSHLqwMBBw=s64",
      "userId": "15479329890797732984"
     },
     "user_tz": -420
    },
    "id": "SGzOLxRMArx0",
    "outputId": "2f1341e3-685a-47a5-8785-4930b1de7da3"
   },
   "outputs": [
    {
     "data": {
      "text/html": [
       "<div>\n",
       "<style scoped>\n",
       "    .dataframe tbody tr th:only-of-type {\n",
       "        vertical-align: middle;\n",
       "    }\n",
       "\n",
       "    .dataframe tbody tr th {\n",
       "        vertical-align: top;\n",
       "    }\n",
       "\n",
       "    .dataframe thead th {\n",
       "        text-align: right;\n",
       "    }\n",
       "</style>\n",
       "<table border=\"1\" class=\"dataframe\">\n",
       "  <thead>\n",
       "    <tr style=\"text-align: right;\">\n",
       "      <th></th>\n",
       "      <th>Model</th>\n",
       "      <th>Accuracy</th>\n",
       "    </tr>\n",
       "  </thead>\n",
       "  <tbody>\n",
       "    <tr>\n",
       "      <th>1</th>\n",
       "      <td>K Neighbors</td>\n",
       "      <td>86.666667</td>\n",
       "    </tr>\n",
       "    <tr>\n",
       "      <th>2</th>\n",
       "      <td>SVM</td>\n",
       "      <td>86.666667</td>\n",
       "    </tr>\n",
       "    <tr>\n",
       "      <th>3</th>\n",
       "      <td>RandomForest</td>\n",
       "      <td>82.222222</td>\n",
       "    </tr>\n",
       "    <tr>\n",
       "      <th>0</th>\n",
       "      <td>Logistic Regression</td>\n",
       "      <td>80.000000</td>\n",
       "    </tr>\n",
       "  </tbody>\n",
       "</table>\n",
       "</div>"
      ],
      "text/plain": [
       "                 Model   Accuracy\n",
       "1          K Neighbors  86.666667\n",
       "2                  SVM  86.666667\n",
       "3         RandomForest  82.222222\n",
       "0  Logistic Regression  80.000000"
      ]
     },
     "execution_count": 64,
     "metadata": {},
     "output_type": "execute_result"
    }
   ],
   "source": [
    "compare = pd.DataFrame({'Model': ['Logistic Regression', 'K Neighbors', \n",
    "                                  'SVM', 'RandomForest'],\n",
    "                        'Accuracy': [LRAcc*100, KNAcc*100, SVCAcc*100, \n",
    "                                     RFAcc*100]})\n",
    "compare.sort_values(by='Accuracy', ascending=False)"
   ]
  },
  {
   "cell_type": "markdown",
   "metadata": {
    "id": "_5Iao5hYCOsI"
   },
   "source": [
    "Here we can seen that **all models can achieve up to 82.75% accuracy on an average**\n",
    "The highest accuracy is **86.67%**"
   ]
  },
  {
   "cell_type": "code",
   "execution_count": null,
   "metadata": {},
   "outputs": [],
   "source": []
  }
 ],
 "metadata": {
  "kernelspec": {
   "display_name": "Python 3",
   "language": "python",
   "name": "python3"
  },
  "language_info": {
   "codemirror_mode": {
    "name": "ipython",
    "version": 3
   },
   "file_extension": ".py",
   "mimetype": "text/x-python",
   "name": "python",
   "nbconvert_exporter": "python",
   "pygments_lexer": "ipython3",
   "version": "3.8.3"
  }
 },
 "nbformat": 4,
 "nbformat_minor": 4
}
